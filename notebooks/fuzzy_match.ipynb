{
 "cells": [
  {
   "cell_type": "markdown",
   "metadata": {},
   "source": [
    "# Production Versions of Fuzzy Match Algorithms"
   ]
  },
  {
   "cell_type": "markdown",
   "metadata": {},
   "source": [
    "## Algorithms Overview\n",
    "- We want to fuzzy match addresses and owner names to create clusters of the same owners. However, fuzzy matching is extremely inefficient.\n",
    "- Further, we may want to do a fuzzy merge between owner address and/or name and business registry data.\n",
    "- Therefore, we should consider how to get Approximate Nearest Neighbors first (e.g. a group of owner names or addresses that are similiar) rather than having to search the entire search space. That way, the number of comparisons are reduced only to the search space.\n",
    "- The goal is to have an algorithm that is highly accurate while being efficient.\n",
    "- We can do this by making some assumptions, as below.\n",
    "### Assumptions\n",
    "**For Addresses**\n",
    "- *Zip code*. We can create clusters of potentially similiar owners by using owner zip code.\n",
    "- *Address number*. Within zip code search spaces, we can further narrow down the search by owner address number.\n",
    "- Both the above comparisons are quick because they are vectorized.\n",
    "- Once we find owners with the same zip code and address number, then we can compare names using fuzzy matching.\n",
    "\n",
    "**For Names**\n",
    "- If we are only clustering within names, without consideration of address, there are few ways we can reduce the search space, except the options listed for *both*.\n",
    "\n",
    "**Both**\n",
    "- *Tokenize and use vector comparison to create ANN search space*. Within both owner names and owner addresses, it is likely that at least one token (e.g. a character sequence separated by spaces) will be identical to another in the same cluster. For instance, \"PROGRESS\" will likely appear in the owner name of any properties owned by \"PROGRESS RESIDENTIAL.\" For addresses, this token is typically the address number, but can also be something like \"MAIN\" for \"MAIN ST\" or \"MAIN STREET.\"\n",
    "- *Word embeddings and Word2Vec*. Word embeddings create word vectors based on how often they (word tokens) appear next to each other. Words that appear together frequently will be closer together. From these vectors, a true ANN algorithm can be used. However, the initial computation can be quite heavy. This also has some potential for identifying corporate names due to LLC or other indicator tokens frequently being in the owner name.\n",
    "---\n"
   ]
  },
  {
   "cell_type": "markdown",
   "metadata": {},
   "source": [
    "hide company flag- does the model predict the value should be what it actually was sold for?\n",
    "\n",
    "naive approach, same buyer buying more than 2 properties in the time period -> investor\n"
   ]
  },
  {
   "cell_type": "markdown",
   "metadata": {},
   "source": [
    "\n",
    "merge appeals too?\n",
    "\n",
    "interactive map over years showing investor activity?"
   ]
  },
  {
   "cell_type": "code",
   "execution_count": null,
   "metadata": {},
   "outputs": [],
   "source": []
  }
 ],
 "metadata": {
  "language_info": {
   "name": "python"
  },
  "orig_nbformat": 4
 },
 "nbformat": 4,
 "nbformat_minor": 2
}

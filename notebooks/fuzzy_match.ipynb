{
 "cells": [
  {
   "cell_type": "markdown",
   "metadata": {},
   "source": [
    "# Production Versions of Fuzzy Match Algorithms"
   ]
  },
  {
   "cell_type": "markdown",
   "metadata": {},
   "source": [
    "## Algorithms Overview\n",
    "- We want to fuzzy match addresses and owner names to create clusters of the same owners. However, fuzzy matching is extremely inefficient.\n",
    "- Further, we may want to do a fuzzy merge between owner address and/or name and business registry data.\n",
    "- Therefore, we should consider how to get Approximate Nearest Neighbors first (e.g. a group of owner names or addresses that are similiar) rather than having to search the entire search space. That way, the number of comparisons are reduced only to the search space.\n",
    "- The goal is to have an algorithm that is highly accurate while being efficient.\n",
    "- We can do this by making some assumptions, as below.\n",
    "### Assumptions\n",
    "**For Addresses**\n",
    "- *Zip code*. We can create clusters of potentially similiar owners by using owner zip code.\n",
    "- *Address number*. Within zip code search spaces, we can further narrow down the search by owner address number.\n",
    "- Both the above comparisons are quick because they are vectorized.\n",
    "- Once we find owners with the same zip code and address number, then we can compare names using fuzzy matching.\n",
    "\n",
    "**For Names**\n",
    "- If we are only clustering within names, without consideration of address, there are few ways we can reduce the search space, except the options listed for *both*.\n",
    "\n",
    "**Both**\n",
    "- *Tokenize and use vector comparison to create ANN search space*. Within both owner names and owner addresses, it is likely that at least one token (e.g. a character sequence separated by spaces) will be identical to another in the same cluster. For instance, \"PROGRESS\" will likely appear in the owner name of any properties owned by \"PROGRESS RESIDENTIAL.\" For addresses, this token is typically the address number, but can also be something like \"MAIN\" for \"MAIN ST\" or \"MAIN STREET.\"\n",
    "- *Word embeddings and Word2Vec*. Word embeddings create word vectors based on how often they (word tokens) appear next to each other. Words that appear together frequently will be closer together. From these vectors, a true ANN algorithm can be used. However, the initial computation can be quite heavy. This also has some potential for identifying corporate names due to LLC or other indicator tokens frequently being in the owner name.\n",
    "---\n"
   ]
  },
  {
   "cell_type": "markdown",
   "metadata": {},
   "source": [
    "hide company flag- does the model predict the value should be what it actually was sold for?\n",
    "\n",
    "naive approach, same buyer buying more than 2 properties in the time period -> investor\n"
   ]
  },
  {
   "cell_type": "markdown",
   "metadata": {},
   "source": [
    "\n",
    "merge appeals too?\n",
    "\n",
    "interactive map over years showing investor activity?"
   ]
  },
  {
   "cell_type": "code",
   "execution_count": 43,
   "metadata": {},
   "outputs": [],
   "source": [
    "import polars as pl"
   ]
  },
  {
   "cell_type": "code",
   "execution_count": 44,
   "metadata": {},
   "outputs": [],
   "source": [
    "atl_sales_parcel = pl.read_csv('../output/geocoded/csv/atl_sales_parcel_neighborhoods.csv',\n",
    "                               infer_schema_length=0)"
   ]
  },
  {
   "cell_type": "code",
   "execution_count": 45,
   "metadata": {},
   "outputs": [],
   "source": [
    "parid_owner = atl_sales_parcel[['parid_strip', 'own1', 'own_adrno',\n",
    "                                'own_adrstr', 'own_zip', 'neighborhood']]"
   ]
  },
  {
   "cell_type": "code",
   "execution_count": 46,
   "metadata": {},
   "outputs": [],
   "source": [
    "two_neighborhoods = parid_owner.filter(\n",
    "    (pl.col('neighborhood') == 'Thomasville Heights') |\n",
    "    (pl.col('neighborhood') == 'South Atlanta')\n",
    ")"
   ]
  },
  {
   "cell_type": "code",
   "execution_count": 47,
   "metadata": {},
   "outputs": [
    {
     "data": {
      "text/html": [
       "<div><style>\n",
       ".dataframe > thead > tr > th,\n",
       ".dataframe > tbody > tr > td {\n",
       "  text-align: right;\n",
       "}\n",
       "</style>\n",
       "<small>shape: (1_140, 2)</small><table border=\"1\" class=\"dataframe\"><thead><tr><th>own1</th><th>count</th></tr><tr><td>str</td><td>u32</td></tr></thead><tbody><tr><td>&quot;CHARIS SOUTH A…</td><td>51</td></tr><tr><td>&quot;HABITAT FOR HU…</td><td>38</td></tr><tr><td>&quot;RCA SUPPORT CO…</td><td>32</td></tr><tr><td>&quot;MAPLE STREET R…</td><td>29</td></tr><tr><td>&quot;MC KINNEY JANI…</td><td>22</td></tr><tr><td>&quot;CENTRAL LIBERT…</td><td>21</td></tr><tr><td>&quot;FULTON COUNTY …</td><td>18</td></tr><tr><td>&quot;FEDERAL NATION…</td><td>16</td></tr><tr><td>&quot;RON CLARK ACAD…</td><td>16</td></tr><tr><td>&quot;LBAK HOLDINGS …</td><td>15</td></tr><tr><td>&quot;CUNNINGHAM CON…</td><td>13</td></tr><tr><td>&quot;MILLER MICHAEL…</td><td>10</td></tr><tr><td>&hellip;</td><td>&hellip;</td></tr><tr><td>&quot;HOME SOLUTIONS…</td><td>1</td></tr><tr><td>&quot;DCS REALTY LLC…</td><td>1</td></tr><tr><td>&quot;BAPTISTE YVES&quot;</td><td>1</td></tr><tr><td>&quot;WEERAKKODY VIN…</td><td>1</td></tr><tr><td>&quot;STRONG ENTERPR…</td><td>1</td></tr><tr><td>&quot;SIMMONS PEGGY …</td><td>1</td></tr><tr><td>&quot;BEB ATLANTA RE…</td><td>1</td></tr><tr><td>&quot;COLEMAN TRINIT…</td><td>1</td></tr><tr><td>&quot;EVANS LABARREN…</td><td>1</td></tr><tr><td>&quot;BROWN CROWDER …</td><td>1</td></tr><tr><td>&quot;BRIDGES KAZSA …</td><td>1</td></tr><tr><td>&quot;FIORE ARIA &amp;&quot;</td><td>1</td></tr></tbody></table></div>"
      ],
      "text/plain": [
       "shape: (1_140, 2)\n",
       "┌───────────────────────────────────┬───────┐\n",
       "│ own1                              ┆ count │\n",
       "│ ---                               ┆ ---   │\n",
       "│ str                               ┆ u32   │\n",
       "╞═══════════════════════════════════╪═══════╡\n",
       "│ CHARIS SOUTH ATLANTA LLC          ┆ 51    │\n",
       "│ HABITAT FOR HUMANITY IN ATLANTA … ┆ 38    │\n",
       "│ RCA SUPPORT CORPORATION           ┆ 32    │\n",
       "│ MAPLE STREET RE LLC               ┆ 29    │\n",
       "│ …                                 ┆ …     │\n",
       "│ EVANS LABARREN &                  ┆ 1     │\n",
       "│ BROWN CROWDER CAROLYN VIRGINIA    ┆ 1     │\n",
       "│ BRIDGES KAZSA K                   ┆ 1     │\n",
       "│ FIORE ARIA &                      ┆ 1     │\n",
       "└───────────────────────────────────┴───────┘"
      ]
     },
     "execution_count": 47,
     "metadata": {},
     "output_type": "execute_result"
    }
   ],
   "source": [
    "two_neighborhoods.groupby('own1').count().sort(by='count', descending=True)"
   ]
  },
  {
   "cell_type": "code",
   "execution_count": 48,
   "metadata": {},
   "outputs": [
    {
     "data": {
      "text/html": [
       "<div><style>\n",
       ".dataframe > thead > tr > th,\n",
       ".dataframe > tbody > tr > td {\n",
       "  text-align: right;\n",
       "}\n",
       "</style>\n",
       "<small>shape: (438, 3)</small><table border=\"1\" class=\"dataframe\"><thead><tr><th>own_adrno</th><th>own_adrstr</th><th>count</th></tr><tr><td>str</td><td>str</td><td>u32</td></tr></thead><tbody><tr><td>&quot;228&quot;</td><td>&quot;MARGARET&quot;</td><td>50</td></tr><tr><td>&quot;519&quot;</td><td>&quot;MEMORIAL&quot;</td><td>36</td></tr><tr><td>&quot;420253&quot;</td><td>&quot;PO BOX 420253&quot;</td><td>31</td></tr><tr><td>&quot;750&quot;</td><td>&quot;GLENWOOD&quot;</td><td>27</td></tr><tr><td>&quot;17628&quot;</td><td>&quot;P O BOX 17628&quot;</td><td>25</td></tr><tr><td>&quot;650043&quot;</td><td>&quot;P O BOX 650043…</td><td>23</td></tr><tr><td>&quot;2063&quot;</td><td>&quot;PHILLIPS&quot;</td><td>22</td></tr><tr><td>&quot;3710&quot;</td><td>&quot;LONE TREE&quot;</td><td>21</td></tr><tr><td>&quot;1297&quot;</td><td>&quot;MCDONOUGH&quot;</td><td>20</td></tr><tr><td>&quot;150316&quot;</td><td>&quot;P O BOX 150316…</td><td>18</td></tr><tr><td>&quot;34&quot;</td><td>&quot;PEACHTREE&quot;</td><td>18</td></tr><tr><td>&quot;2020&quot;</td><td>&quot;HOWELL MILL&quot;</td><td>14</td></tr><tr><td>&hellip;</td><td>&hellip;</td><td>&hellip;</td></tr><tr><td>&quot;1563&quot;</td><td>&quot;JONESBORO&quot;</td><td>2</td></tr><tr><td>&quot;2046&quot;</td><td>&quot;STANTON&quot;</td><td>2</td></tr><tr><td>&quot;2453&quot;</td><td>&quot;LOST VALLEY&quot;</td><td>2</td></tr><tr><td>&quot;2200&quot;</td><td>&quot;KNOXHILL&quot;</td><td>2</td></tr><tr><td>&quot;231&quot;</td><td>&quot;MAXHAM&quot;</td><td>2</td></tr><tr><td>&quot;71&quot;</td><td>&quot;MELDON&quot;</td><td>2</td></tr><tr><td>&quot;1470&quot;</td><td>&quot;LANSING&quot;</td><td>2</td></tr><tr><td>&quot;1100&quot;</td><td>&quot;VIRGINIA&quot;</td><td>2</td></tr><tr><td>&quot;169&quot;</td><td>&quot;169TH&quot;</td><td>2</td></tr><tr><td>&quot;425&quot;</td><td>&quot;PHILLIPS&quot;</td><td>2</td></tr><tr><td>&quot;2573&quot;</td><td>&quot;ELKHORN&quot;</td><td>2</td></tr><tr><td>&quot;435&quot;</td><td>&quot;PO BOX 435&quot;</td><td>2</td></tr></tbody></table></div>"
      ],
      "text/plain": [
       "shape: (438, 3)\n",
       "┌───────────┬───────────────┬───────┐\n",
       "│ own_adrno ┆ own_adrstr    ┆ count │\n",
       "│ ---       ┆ ---           ┆ ---   │\n",
       "│ str       ┆ str           ┆ u32   │\n",
       "╞═══════════╪═══════════════╪═══════╡\n",
       "│ 228       ┆ MARGARET      ┆ 50    │\n",
       "│ 519       ┆ MEMORIAL      ┆ 36    │\n",
       "│ 420253    ┆ PO BOX 420253 ┆ 31    │\n",
       "│ 750       ┆ GLENWOOD      ┆ 27    │\n",
       "│ …         ┆ …             ┆ …     │\n",
       "│ 169       ┆ 169TH         ┆ 2     │\n",
       "│ 425       ┆ PHILLIPS      ┆ 2     │\n",
       "│ 2573      ┆ ELKHORN       ┆ 2     │\n",
       "│ 435       ┆ PO BOX 435    ┆ 2     │\n",
       "└───────────┴───────────────┴───────┘"
      ]
     },
     "execution_count": 48,
     "metadata": {},
     "output_type": "execute_result"
    }
   ],
   "source": [
    "(\n",
    "    two_neighborhoods.groupby(['own_adrno', 'own_adrstr'])\n",
    "    .count().filter(\n",
    "        pl.col('count') > 1\n",
    "    ).sort(by='count', descending=True)\n",
    ")"
   ]
  },
  {
   "cell_type": "code",
   "execution_count": 49,
   "metadata": {},
   "outputs": [
    {
     "data": {
      "text/plain": [
       "1640"
      ]
     },
     "execution_count": 49,
     "metadata": {},
     "output_type": "execute_result"
    }
   ],
   "source": [
    "sum((\n",
    "    two_neighborhoods.groupby(['own_adrno', 'own_adrstr'])\n",
    "    .count().filter(\n",
    "        pl.col('count') > 1\n",
    "    )\n",
    ")['count'])"
   ]
  },
  {
   "cell_type": "code",
   "execution_count": 50,
   "metadata": {},
   "outputs": [
    {
     "data": {
      "text/plain": [
       "2218"
      ]
     },
     "execution_count": 50,
     "metadata": {},
     "output_type": "execute_result"
    }
   ],
   "source": [
    "len(two_neighborhoods)"
   ]
  },
  {
   "cell_type": "code",
   "execution_count": 56,
   "metadata": {},
   "outputs": [
    {
     "data": {
      "text/html": [
       "<div><style>\n",
       ".dataframe > thead > tr > th,\n",
       ".dataframe > tbody > tr > td {\n",
       "  text-align: right;\n",
       "}\n",
       "</style>\n",
       "<small>shape: (936, 3)</small><table border=\"1\" class=\"dataframe\"><thead><tr><th>own_adrno</th><th>own_zip</th><th>count</th></tr><tr><td>str</td><td>str</td><td>u32</td></tr></thead><tbody><tr><td>&quot;228&quot;</td><td>&quot;30315&quot;</td><td>50</td></tr><tr><td>&quot;519&quot;</td><td>&quot;30312&quot;</td><td>36</td></tr><tr><td>&quot;420253&quot;</td><td>&quot;30342&quot;</td><td>31</td></tr><tr><td>&quot;1297&quot;</td><td>&quot;30315&quot;</td><td>27</td></tr><tr><td>&quot;650043&quot;</td><td>&quot;75265&quot;</td><td>27</td></tr><tr><td>&quot;750&quot;</td><td>&quot;30316&quot;</td><td>27</td></tr><tr><td>&quot;17628&quot;</td><td>&quot;30316&quot;</td><td>24</td></tr><tr><td>&quot;2063&quot;</td><td>&quot;30315&quot;</td><td>22</td></tr><tr><td>&quot;3710&quot;</td><td>&quot;94509&quot;</td><td>21</td></tr><tr><td>&quot;34&quot;</td><td>&quot;30303&quot;</td><td>18</td></tr><tr><td>&quot;150316&quot;</td><td>&quot;30315&quot;</td><td>18</td></tr><tr><td>&quot;4645&quot;</td><td>&quot;20016&quot;</td><td>15</td></tr><tr><td>&hellip;</td><td>&hellip;</td><td>&hellip;</td></tr><tr><td>&quot;3575&quot;</td><td>&quot;30034&quot;</td><td>1</td></tr><tr><td>&quot;311202&quot;</td><td>&quot;30331&quot;</td><td>1</td></tr><tr><td>&quot;3115&quot;</td><td>&quot;30096&quot;</td><td>1</td></tr><tr><td>&quot;136&quot;</td><td>&quot;30157&quot;</td><td>1</td></tr><tr><td>&quot;606&quot;</td><td>&quot;30291&quot;</td><td>1</td></tr><tr><td>&quot;55&quot;</td><td>&quot;30315&quot;</td><td>1</td></tr><tr><td>&quot;89&quot;</td><td>&quot;30315&quot;</td><td>1</td></tr><tr><td>&quot;1149&quot;</td><td>&quot;30315&quot;</td><td>1</td></tr><tr><td>&quot;1525&quot;</td><td>&quot;75019&quot;</td><td>1</td></tr><tr><td>&quot;1579&quot;</td><td>&quot;30315&quot;</td><td>1</td></tr><tr><td>&quot;6935&quot;</td><td>&quot;30213&quot;</td><td>1</td></tr><tr><td>&quot;299&quot;</td><td>&quot;30315&quot;</td><td>1</td></tr></tbody></table></div>"
      ],
      "text/plain": [
       "shape: (936, 3)\n",
       "┌───────────┬─────────┬───────┐\n",
       "│ own_adrno ┆ own_zip ┆ count │\n",
       "│ ---       ┆ ---     ┆ ---   │\n",
       "│ str       ┆ str     ┆ u32   │\n",
       "╞═══════════╪═════════╪═══════╡\n",
       "│ 228       ┆ 30315   ┆ 50    │\n",
       "│ 519       ┆ 30312   ┆ 36    │\n",
       "│ 420253    ┆ 30342   ┆ 31    │\n",
       "│ 1297      ┆ 30315   ┆ 27    │\n",
       "│ …         ┆ …       ┆ …     │\n",
       "│ 1525      ┆ 75019   ┆ 1     │\n",
       "│ 1579      ┆ 30315   ┆ 1     │\n",
       "│ 6935      ┆ 30213   ┆ 1     │\n",
       "│ 299       ┆ 30315   ┆ 1     │\n",
       "└───────────┴─────────┴───────┘"
      ]
     },
     "execution_count": 56,
     "metadata": {},
     "output_type": "execute_result"
    }
   ],
   "source": [
    "two_neighborhoods.groupby(['own_adrno', 'own_zip']).count().sort(by='count', descending=True)"
   ]
  },
  {
   "cell_type": "code",
   "execution_count": 51,
   "metadata": {},
   "outputs": [
    {
     "data": {
      "text/html": [
       "<div><style>\n",
       ".dataframe > thead > tr > th,\n",
       ".dataframe > tbody > tr > td {\n",
       "  text-align: right;\n",
       "}\n",
       "</style>\n",
       "<small>shape: (1_016, 3)</small><table border=\"1\" class=\"dataframe\"><thead><tr><th>own_adrno</th><th>own_adrstr</th><th>count</th></tr><tr><td>str</td><td>str</td><td>u32</td></tr></thead><tbody><tr><td>&quot;228&quot;</td><td>&quot;MARGARET&quot;</td><td>50</td></tr><tr><td>&quot;519&quot;</td><td>&quot;MEMORIAL&quot;</td><td>36</td></tr><tr><td>&quot;420253&quot;</td><td>&quot;PO BOX 420253&quot;</td><td>31</td></tr><tr><td>&quot;750&quot;</td><td>&quot;GLENWOOD&quot;</td><td>27</td></tr><tr><td>&quot;17628&quot;</td><td>&quot;P O BOX 17628&quot;</td><td>25</td></tr><tr><td>&quot;650043&quot;</td><td>&quot;P O BOX 650043…</td><td>23</td></tr><tr><td>&quot;2063&quot;</td><td>&quot;PHILLIPS&quot;</td><td>22</td></tr><tr><td>&quot;3710&quot;</td><td>&quot;LONE TREE&quot;</td><td>21</td></tr><tr><td>&quot;1297&quot;</td><td>&quot;MCDONOUGH&quot;</td><td>20</td></tr><tr><td>&quot;150316&quot;</td><td>&quot;P O BOX 150316…</td><td>18</td></tr><tr><td>&quot;34&quot;</td><td>&quot;PEACHTREE&quot;</td><td>18</td></tr><tr><td>&quot;2020&quot;</td><td>&quot;HOWELL MILL&quot;</td><td>14</td></tr><tr><td>&hellip;</td><td>&hellip;</td><td>&hellip;</td></tr><tr><td>&quot;1658&quot;</td><td>&quot;PO BOX 1658&quot;</td><td>1</td></tr><tr><td>&quot;16&quot;</td><td>&quot;DOROTHY&quot;</td><td>1</td></tr><tr><td>&quot;72&quot;</td><td>&quot;SOLOMON&quot;</td><td>1</td></tr><tr><td>&quot;46&quot;</td><td>&quot;THIRKIELD&quot;</td><td>1</td></tr><tr><td>&quot;2545&quot;</td><td>&quot;46 TH&quot;</td><td>1</td></tr><tr><td>&quot;830&quot;</td><td>&quot;GLENWOOD&quot;</td><td>1</td></tr><tr><td>&quot;1443&quot;</td><td>&quot;MERRIMAN&quot;</td><td>1</td></tr><tr><td>&quot;43&quot;</td><td>&quot;PARK&quot;</td><td>1</td></tr><tr><td>&quot;996&quot;</td><td>&quot;JOSEPH E BOONE…</td><td>1</td></tr><tr><td>&quot;4751&quot;</td><td>&quot;BEST&quot;</td><td>1</td></tr><tr><td>&quot;57&quot;</td><td>&quot;MOURY&quot;</td><td>1</td></tr><tr><td>&quot;64&quot;</td><td>&quot;THIRKELD&quot;</td><td>1</td></tr></tbody></table></div>"
      ],
      "text/plain": [
       "shape: (1_016, 3)\n",
       "┌───────────┬────────────────┬───────┐\n",
       "│ own_adrno ┆ own_adrstr     ┆ count │\n",
       "│ ---       ┆ ---            ┆ ---   │\n",
       "│ str       ┆ str            ┆ u32   │\n",
       "╞═══════════╪════════════════╪═══════╡\n",
       "│ 228       ┆ MARGARET       ┆ 50    │\n",
       "│ 519       ┆ MEMORIAL       ┆ 36    │\n",
       "│ 420253    ┆ PO BOX 420253  ┆ 31    │\n",
       "│ 750       ┆ GLENWOOD       ┆ 27    │\n",
       "│ …         ┆ …              ┆ …     │\n",
       "│ 996       ┆ JOSEPH E BOONE ┆ 1     │\n",
       "│ 4751      ┆ BEST           ┆ 1     │\n",
       "│ 57        ┆ MOURY          ┆ 1     │\n",
       "│ 64        ┆ THIRKELD       ┆ 1     │\n",
       "└───────────┴────────────────┴───────┘"
      ]
     },
     "execution_count": 51,
     "metadata": {},
     "output_type": "execute_result"
    }
   ],
   "source": [
    "two_neighborhoods.groupby(['own_adrno', 'own_adrstr']).count().sort(by='count', descending=True)"
   ]
  },
  {
   "cell_type": "code",
   "execution_count": null,
   "metadata": {},
   "outputs": [],
   "source": [
    "two_neighborhoods.filter(\n",
    "    (pl.col('own_zip') == 'MARGARET') |\n",
    "    (pl.col('own_adrno') == '228')\n",
    ")['own1'].unique().to_list()"
   ]
  },
  {
   "cell_type": "code",
   "execution_count": 57,
   "metadata": {},
   "outputs": [
    {
     "data": {
      "text/plain": [
       "['FEDERAL NATL MTG ASSN',\n",
       " 'FEDERAL NATIONAL MORTGAGE ASSN',\n",
       " 'FEDERAL NATIONAL MORTGAGE ASSOCIATION',\n",
       " 'FEDERAL NATIONAL MORTGAGE']"
      ]
     },
     "execution_count": 57,
     "metadata": {},
     "output_type": "execute_result"
    }
   ],
   "source": [
    "two_neighborhoods.filter(\n",
    "    (pl.col('own_adrno') == '650043')\n",
    ")['own1'].unique().to_list()"
   ]
  },
  {
   "cell_type": "code",
   "execution_count": 53,
   "metadata": {},
   "outputs": [
    {
     "data": {
      "text/plain": [
       "['HABITAT FOR HUMANITY IN ATLANTA INC',\n",
       " 'HABITAT FOR HUMANITY ATLANTA INC',\n",
       " 'HOLLINGSWORTH GEORGE A',\n",
       " 'HABITAT FOR HUMANITY IN ATLANTA INC.',\n",
       " 'UMOJA CHINUA T']"
      ]
     },
     "execution_count": 53,
     "metadata": {},
     "output_type": "execute_result"
    }
   ],
   "source": [
    "two_neighborhoods.filter(\n",
    "    (pl.col('own_adrstr') == 'MEMORIAL') |\n",
    "    (pl.col('own_adrno') == '519')\n",
    ")['own1'].unique().to_list()"
   ]
  },
  {
   "cell_type": "code",
   "execution_count": 54,
   "metadata": {},
   "outputs": [
    {
     "data": {
      "text/plain": [
       "['CENTURY FUND LLC', 'MAPLE STREET RE LLC']"
      ]
     },
     "execution_count": 54,
     "metadata": {},
     "output_type": "execute_result"
    }
   ],
   "source": [
    "two_neighborhoods.filter(\n",
    "    (pl.col('own_adrno') == '420253')\n",
    ")['own1'].unique().to_list()"
   ]
  },
  {
   "cell_type": "code",
   "execution_count": 55,
   "metadata": {},
   "outputs": [
    {
     "data": {
      "text/html": [
       "<div><style>\n",
       ".dataframe > thead > tr > th,\n",
       ".dataframe > tbody > tr > td {\n",
       "  text-align: right;\n",
       "}\n",
       "</style>\n",
       "<small>shape: (31, 6)</small><table border=\"1\" class=\"dataframe\"><thead><tr><th>parid_strip</th><th>own1</th><th>own_adrno</th><th>own_adrstr</th><th>own_zip</th><th>neighborhood</th></tr><tr><td>str</td><td>str</td><td>str</td><td>str</td><td>str</td><td>str</td></tr></thead><tbody><tr><td>&quot;14005600100077…</td><td>&quot;CENTURY FUND L…</td><td>&quot;420253&quot;</td><td>&quot;PO BOX 420253&quot;</td><td>&quot;30342&quot;</td><td>&quot;South Atlanta&quot;</td></tr><tr><td>&quot;14005600100077…</td><td>&quot;CENTURY FUND L…</td><td>&quot;420253&quot;</td><td>&quot;PO BOX 420253&quot;</td><td>&quot;30342&quot;</td><td>&quot;South Atlanta&quot;</td></tr><tr><td>&quot;14005700100241…</td><td>&quot;MAPLE STREET R…</td><td>&quot;420253&quot;</td><td>&quot;PO BOX 420253&quot;</td><td>&quot;30342&quot;</td><td>&quot;South Atlanta&quot;</td></tr><tr><td>&quot;14005700100241…</td><td>&quot;MAPLE STREET R…</td><td>&quot;420253&quot;</td><td>&quot;PO BOX 420253&quot;</td><td>&quot;30342&quot;</td><td>&quot;South Atlanta&quot;</td></tr><tr><td>&quot;14005700100241…</td><td>&quot;MAPLE STREET R…</td><td>&quot;420253&quot;</td><td>&quot;PO BOX 420253&quot;</td><td>&quot;30342&quot;</td><td>&quot;South Atlanta&quot;</td></tr><tr><td>&quot;14005700100241…</td><td>&quot;MAPLE STREET R…</td><td>&quot;420253&quot;</td><td>&quot;PO BOX 420253&quot;</td><td>&quot;30342&quot;</td><td>&quot;South Atlanta&quot;</td></tr><tr><td>&quot;14005700100241…</td><td>&quot;MAPLE STREET R…</td><td>&quot;420253&quot;</td><td>&quot;PO BOX 420253&quot;</td><td>&quot;30342&quot;</td><td>&quot;South Atlanta&quot;</td></tr><tr><td>&quot;14005700100241…</td><td>&quot;MAPLE STREET R…</td><td>&quot;420253&quot;</td><td>&quot;PO BOX 420253&quot;</td><td>&quot;30342&quot;</td><td>&quot;South Atlanta&quot;</td></tr><tr><td>&quot;14005700100241…</td><td>&quot;MAPLE STREET R…</td><td>&quot;420253&quot;</td><td>&quot;PO BOX 420253&quot;</td><td>&quot;30342&quot;</td><td>&quot;South Atlanta&quot;</td></tr><tr><td>&quot;14005700100241…</td><td>&quot;MAPLE STREET R…</td><td>&quot;420253&quot;</td><td>&quot;PO BOX 420253&quot;</td><td>&quot;30342&quot;</td><td>&quot;South Atlanta&quot;</td></tr><tr><td>&quot;14005700100241…</td><td>&quot;MAPLE STREET R…</td><td>&quot;420253&quot;</td><td>&quot;PO BOX 420253&quot;</td><td>&quot;30342&quot;</td><td>&quot;South Atlanta&quot;</td></tr><tr><td>&quot;14005700100241…</td><td>&quot;MAPLE STREET R…</td><td>&quot;420253&quot;</td><td>&quot;PO BOX 420253&quot;</td><td>&quot;30342&quot;</td><td>&quot;South Atlanta&quot;</td></tr><tr><td>&hellip;</td><td>&hellip;</td><td>&hellip;</td><td>&hellip;</td><td>&hellip;</td><td>&hellip;</td></tr><tr><td>&quot;14005700100241…</td><td>&quot;MAPLE STREET R…</td><td>&quot;420253&quot;</td><td>&quot;PO BOX 420253&quot;</td><td>&quot;30342&quot;</td><td>&quot;South Atlanta&quot;</td></tr><tr><td>&quot;14005700100241…</td><td>&quot;MAPLE STREET R…</td><td>&quot;420253&quot;</td><td>&quot;PO BOX 420253&quot;</td><td>&quot;30342&quot;</td><td>&quot;South Atlanta&quot;</td></tr><tr><td>&quot;14005700100241…</td><td>&quot;MAPLE STREET R…</td><td>&quot;420253&quot;</td><td>&quot;PO BOX 420253&quot;</td><td>&quot;30342&quot;</td><td>&quot;South Atlanta&quot;</td></tr><tr><td>&quot;14005700100241…</td><td>&quot;MAPLE STREET R…</td><td>&quot;420253&quot;</td><td>&quot;PO BOX 420253&quot;</td><td>&quot;30342&quot;</td><td>&quot;South Atlanta&quot;</td></tr><tr><td>&quot;14005700100241…</td><td>&quot;MAPLE STREET R…</td><td>&quot;420253&quot;</td><td>&quot;PO BOX 420253&quot;</td><td>&quot;30342&quot;</td><td>&quot;South Atlanta&quot;</td></tr><tr><td>&quot;14005700100241…</td><td>&quot;MAPLE STREET R…</td><td>&quot;420253&quot;</td><td>&quot;PO BOX 420253&quot;</td><td>&quot;30342&quot;</td><td>&quot;South Atlanta&quot;</td></tr><tr><td>&quot;14005700100241…</td><td>&quot;MAPLE STREET R…</td><td>&quot;420253&quot;</td><td>&quot;PO BOX 420253&quot;</td><td>&quot;30342&quot;</td><td>&quot;South Atlanta&quot;</td></tr><tr><td>&quot;14005700100241…</td><td>&quot;MAPLE STREET R…</td><td>&quot;420253&quot;</td><td>&quot;PO BOX 420253&quot;</td><td>&quot;30342&quot;</td><td>&quot;South Atlanta&quot;</td></tr><tr><td>&quot;14005700100241…</td><td>&quot;MAPLE STREET R…</td><td>&quot;420253&quot;</td><td>&quot;PO BOX 420253&quot;</td><td>&quot;30342&quot;</td><td>&quot;South Atlanta&quot;</td></tr><tr><td>&quot;14005700100241…</td><td>&quot;MAPLE STREET R…</td><td>&quot;420253&quot;</td><td>&quot;PO BOX 420253&quot;</td><td>&quot;30342&quot;</td><td>&quot;South Atlanta&quot;</td></tr><tr><td>&quot;14005700100241…</td><td>&quot;MAPLE STREET R…</td><td>&quot;420253&quot;</td><td>&quot;PO BOX 420253&quot;</td><td>&quot;30342&quot;</td><td>&quot;South Atlanta&quot;</td></tr><tr><td>&quot;14005700100241…</td><td>&quot;MAPLE STREET R…</td><td>&quot;420253&quot;</td><td>&quot;PO BOX 420253&quot;</td><td>&quot;30342&quot;</td><td>&quot;South Atlanta&quot;</td></tr></tbody></table></div>"
      ],
      "text/plain": [
       "shape: (31, 6)\n",
       "┌────────────────┬─────────────────────┬───────────┬───────────────┬─────────┬───────────────┐\n",
       "│ parid_strip    ┆ own1                ┆ own_adrno ┆ own_adrstr    ┆ own_zip ┆ neighborhood  │\n",
       "│ ---            ┆ ---                 ┆ ---       ┆ ---           ┆ ---     ┆ ---           │\n",
       "│ str            ┆ str                 ┆ str       ┆ str           ┆ str     ┆ str           │\n",
       "╞════════════════╪═════════════════════╪═══════════╪═══════════════╪═════════╪═══════════════╡\n",
       "│ 14005600100077 ┆ CENTURY FUND LLC    ┆ 420253    ┆ PO BOX 420253 ┆ 30342   ┆ South Atlanta │\n",
       "│ 14005600100077 ┆ CENTURY FUND LLC    ┆ 420253    ┆ PO BOX 420253 ┆ 30342   ┆ South Atlanta │\n",
       "│ 14005700100241 ┆ MAPLE STREET RE LLC ┆ 420253    ┆ PO BOX 420253 ┆ 30342   ┆ South Atlanta │\n",
       "│ 14005700100241 ┆ MAPLE STREET RE LLC ┆ 420253    ┆ PO BOX 420253 ┆ 30342   ┆ South Atlanta │\n",
       "│ …              ┆ …                   ┆ …         ┆ …             ┆ …       ┆ …             │\n",
       "│ 14005700100241 ┆ MAPLE STREET RE LLC ┆ 420253    ┆ PO BOX 420253 ┆ 30342   ┆ South Atlanta │\n",
       "│ 14005700100241 ┆ MAPLE STREET RE LLC ┆ 420253    ┆ PO BOX 420253 ┆ 30342   ┆ South Atlanta │\n",
       "│ 14005700100241 ┆ MAPLE STREET RE LLC ┆ 420253    ┆ PO BOX 420253 ┆ 30342   ┆ South Atlanta │\n",
       "│ 14005700100241 ┆ MAPLE STREET RE LLC ┆ 420253    ┆ PO BOX 420253 ┆ 30342   ┆ South Atlanta │\n",
       "└────────────────┴─────────────────────┴───────────┴───────────────┴─────────┴───────────────┘"
      ]
     },
     "execution_count": 55,
     "metadata": {},
     "output_type": "execute_result"
    }
   ],
   "source": [
    "two_neighborhoods.filter(\n",
    "    (pl.col('own_adrno') == '420253')\n",
    ")"
   ]
  }
 ],
 "metadata": {
  "kernelspec": {
   "display_name": "fcs",
   "language": "python",
   "name": "python3"
  },
  "language_info": {
   "codemirror_mode": {
    "name": "ipython",
    "version": 3
   },
   "file_extension": ".py",
   "mimetype": "text/x-python",
   "name": "python",
   "nbconvert_exporter": "python",
   "pygments_lexer": "ipython3",
   "version": "3.11.4"
  },
  "orig_nbformat": 4
 },
 "nbformat": 4,
 "nbformat_minor": 2
}

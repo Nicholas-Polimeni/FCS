{
 "cells": [
  {
   "cell_type": "markdown",
   "metadata": {},
   "source": [
    "# Data Processing For Fulton County Sales and Parcel Data"
   ]
  },
  {
   "cell_type": "markdown",
   "metadata": {},
   "source": [
    "### Helper Functions\n",
    "---"
   ]
  },
  {
   "cell_type": "code",
   "execution_count": 1,
   "metadata": {},
   "outputs": [],
   "source": [
    "import os\n",
    "import polars as pl\n",
    "import re\n",
    "\n",
    "pl.enable_string_cache(True)\n",
    "pl.Config.set_tbl_cols = 200"
   ]
  },
  {
   "cell_type": "code",
   "execution_count": 2,
   "metadata": {},
   "outputs": [],
   "source": [
    "def read_file(path: str, dtypes: dict, new_names: list = []) -> pl.DataFrame:\n",
    "    print(\"Reading file: \", path)\n",
    "    df = pl.DataFrame()\n",
    "    columns = [x for x in dtypes.keys()]\n",
    "    name_mapping = dict(zip(columns, new_names))\n",
    "\n",
    "    if path[-4:len(path)] == \"xlsx\":\n",
    "        df = pl.read_excel(path,\n",
    "                           xlsx2csv_options= {\"ignore_formats\": [\"date\", \"float\"], \"infer_schema_length\": 0},\n",
    "                           read_csv_options= {\"infer_schema_length\": 0, \"columns\": columns, \"dtypes\": dtypes}\n",
    "        )\n",
    "    else:\n",
    "        df = pl.read_csv(path,\n",
    "                         separator= '\\t',\n",
    "                         columns= columns,\n",
    "                         dtypes= dtypes)\n",
    "    \n",
    "    if new_names:\n",
    "        df = df.rename(name_mapping)\n",
    "\n",
    "    return df\n",
    "\n",
    "def strip_parid(df: pl.DataFrame) -> pl.DataFrame:\n",
    "    df = df.with_columns(\n",
    "        pl.col('parid').str.replace_all(' ', '').alias('parid_strip')\n",
    "    )\n",
    "    return df\n"
   ]
  },
  {
   "cell_type": "code",
   "execution_count": 3,
   "metadata": {},
   "outputs": [],
   "source": [
    "##############################\n",
    "# SET PRE-PROCESSING VARIABLES\n",
    "##############################\n",
    "parcels_path = \"C:/Users/nicho/Documents/research/FCS/data/digest/\"\n",
    "sales_path = \"C:/Users/nicho/Documents/research/FCS/data/sales/\"\n",
    "parcel_dtypes = {\n",
    "    'Taxyr': pl.Categorical, 'Parid': pl.Utf8, 'Nbhd': pl.Categorical,  \n",
    "    'Situs Adrno': pl.Int64, 'Situs Adrdir': pl.Utf8, \n",
    "    'Situs Adrstr': pl.Utf8, 'Situs Adrsuf': pl.Utf8, \n",
    "    'Situs Adrsuf2': pl.Utf8, 'Cityname': pl.Categorical, \n",
    "    'Zoning': pl.Categorical, 'Muni': pl.Categorical, 'Class': pl.Categorical, \n",
    "    'Luc': pl.Categorical, 'Livunit': pl.Utf8, 'Calcacres': pl.Utf8, \n",
    "    'Note1': pl.Utf8, 'Taxdist': pl.Categorical, 'Own1': pl.Utf8, \n",
    "    'Own2': pl.Utf8, 'Owner Adrno': pl.Utf8, \n",
    "    'Owner Adradd': pl.Utf8, 'Owner Adrdir': pl.Categorical, \n",
    "    'Owner Adrstr': pl.Utf8, 'Owner Adrsuf': pl.Categorical, \n",
    "    'Owner Adrsuf2': pl.Utf8, 'Statecode': pl.Categorical, \n",
    "    'Country': pl.Categorical, 'Unitno': pl.Utf8, 'Zip1': pl.Utf8, \n",
    "    'Aprland': pl.Int32, 'Aprbldg': pl.Int32, 'Style': pl.Categorical, \n",
    "    'D Yrblt': pl.Categorical, 'Rmtot': pl.Int16, 'Rmbed': pl.Int16, \n",
    "    'Fixbath': pl.Int16, 'Fixhalf': pl.Int16\n",
    "}\n",
    "parcel_new_names = [\n",
    "    'taxyr', 'parid', 'nbhd', 'site_adrno', 'site_adrdir',\n",
    "    'site_adrstr', 'site_adrsuf', 'site_adrsuf2', 'site_cityname',\n",
    "    'zoning', 'site_muni', 'class', 'luc', 'livunit', 'calcacres',\n",
    "    'note1', 'taxdist', 'own1', 'own2', 'own_adrno', 'own_adradd',\n",
    "    'own_adrdir', 'own_adrstr', 'own_adrsuf',\n",
    "    'own_adrsuf2', 'own_statecode', 'own_country', 'own_unitno',\n",
    "    'own_zip', 'aprland', 'aprbldg', 'style', 'yrblt',\n",
    "    'rmtot', 'rmbed', 'fixbath', 'fixhalf'\n",
    "]\n",
    "sales_dtypes = {\n",
    "    'Taxyr': pl.Categorical, 'Saledt: Year (YYYY)': pl.Categorical,\n",
    "    'Saledt: Month (Mon)': pl.Categorical, 'Parid': pl.Utf8,\n",
    "    'Saledt': pl.Utf8, 'SALES PRICE': pl.Utf8, \n",
    "    'FAIR MARKET VALUE': pl.Utf8, 'DEED TYPE': pl.Categorical,\n",
    "    'Costval': pl.Utf8, 'Saleval': pl.Categorical, 'Who': pl.Utf8,\n",
    "    'Wen': pl.Utf8, 'GRANTOR': pl.Utf8, 'GRANTEE': pl.Utf8,\n",
    "    'Adrpre':pl.Categorical, 'Adrno': pl.Utf8,\n",
    "    'Adrdir': pl.Categorical, 'Adrstr': pl.Utf8,\n",
    "    'Adrsuf': pl.Categorical, 'Adrsuf2': pl.Categorical,\n",
    "    'Cityname': pl.Categorical, 'Unitno': pl.Utf8,\n",
    "    'Livunit': pl.Int16\n",
    "}\n",
    "sales_new_names = [\n",
    "    'taxyr', 'sale_year', 'sale_month', 'parid',\n",
    "    'sale_date', 'salesprice', 'fmv', 'deed',\n",
    "    'costval', 'saleval', 'appraiser', 'when', 'grantor',\n",
    "    'grantee', 'sale_adrpre', 'sale_adrno', 'sale_adrdir',\n",
    "    'sale_adrstr', 'sale_adrsuf', 'sale_adrsuf2',\n",
    "    'sale_cityname', 'sale_unitno', 'livunit'\n",
    "]"
   ]
  },
  {
   "cell_type": "markdown",
   "metadata": {},
   "source": [
    "### Processing Procedure\n",
    "---"
   ]
  },
  {
   "cell_type": "markdown",
   "metadata": {},
   "source": [
    "Read all files to join; verify file groupings by year are as expected."
   ]
  },
  {
   "cell_type": "code",
   "execution_count": 4,
   "metadata": {},
   "outputs": [
    {
     "data": {
      "text/plain": [
       "[['C:/Users/nicho/Documents/research/FCS/data/sales/Sales2021.txt',\n",
       "  'C:/Users/nicho/Documents/research/FCS/data/digest/parcel_14_2021.xlsx',\n",
       "  'C:/Users/nicho/Documents/research/FCS/data/digest/parcel_17_2021.xlsx',\n",
       "  'C:/Users/nicho/Documents/research/FCS/data/digest/parcel_atl_2021.xlsx',\n",
       "  'C:/Users/nicho/Documents/research/FCS/data/digest/parcel_nf_2021.xlsx',\n",
       "  'C:/Users/nicho/Documents/research/FCS/data/digest/parcel_sf_2021.xlsx'],\n",
       " ['C:/Users/nicho/Documents/research/FCS/data/sales/Sales2022.txt',\n",
       "  'C:/Users/nicho/Documents/research/FCS/data/digest/parcel_14_2022.xlsx',\n",
       "  'C:/Users/nicho/Documents/research/FCS/data/digest/parcel_17_2022.xlsx',\n",
       "  'C:/Users/nicho/Documents/research/FCS/data/digest/parcel_atl_2022.xlsx',\n",
       "  'C:/Users/nicho/Documents/research/FCS/data/digest/parcel_nf_2022.xlsx',\n",
       "  'C:/Users/nicho/Documents/research/FCS/data/digest/parcel_sf_2022.xlsx']]"
      ]
     },
     "execution_count": 4,
     "metadata": {},
     "output_type": "execute_result"
    }
   ],
   "source": [
    "parcel_files = os.listdir(parcels_path)\n",
    "sales_files = os.listdir(sales_path)\n",
    "files_by_year = {}\n",
    "\n",
    "for yr in range(2011, 2023):\n",
    "    files_by_year[yr] = [sales_path + file for file in sales_files if str(yr) in file] \\\n",
    "                    + [parcels_path + file for file in parcel_files if str(yr) in file]\n",
    "    \n",
    "[files_by_year[x] for x in files_by_year][len(files_by_year)-2:]"
   ]
  },
  {
   "cell_type": "markdown",
   "metadata": {},
   "source": [
    "Procedure"
   ]
  },
  {
   "cell_type": "markdown",
   "metadata": {},
   "source": [
    "- Merge Sales with Their Associated Parcel Info\n",
    "- Look if there are duplicates within appended parcel data for each year\n",
    "- Make an Appended Sales\n",
    "- Make an Appended Parcel?\n",
    "- All Parcel?"
   ]
  },
  {
   "cell_type": "code",
   "execution_count": 5,
   "metadata": {},
   "outputs": [],
   "source": [
    "def merge_year(\n",
    "    sales: str,\n",
    "    parcel: list,\n",
    "    merge_type: bool,\n",
    "    save_steps: bool = True\n",
    ") -> pl.DataFrame:\n",
    "    '''Merges sales to parcel files for a given year\n",
    "    \n",
    "    Keyword arguments:\n",
    "    sales: path to sales file\n",
    "    parcel: path to parcel file\n",
    "    merge_type: True if left join on sales, False if left join on parcel\n",
    "    save_steps: True if steps should be saved to a CSV\n",
    "    '''\n",
    "    sale_yr = re.findall(r'\\d+', sales)[0]\n",
    "    sales_df = read_file(sales, sales_dtypes, sales_new_names)\n",
    "    parcel_dfs = [read_file(file, parcel_dtypes, parcel_new_names) for file in parcel]\n",
    "    parcel_append = pl.concat(parcel_dfs)\n",
    "\n",
    "    parcel_init_len = len(parcel_append)\n",
    "\n",
    "    parcel_append = parcel_append.unique()\n",
    "\n",
    "    sales_df = strip_parid(sales_df)\n",
    "    parcel_append = strip_parid(parcel_append)\n",
    "\n",
    "    if merge_type:\n",
    "        merged = sales_df.join(parcel_append, how='left', on=['parid_strip', 'taxyr'])\n",
    "    else:\n",
    "        merged = parcel_append.join(sales_df, how='left', on=['parid_strip', 'taxyr'])\n",
    "\n",
    "    if save_steps:\n",
    "        parcel_append.write_csv('../output/parcel/parcels_appended_' + sale_yr + '.csv')\n",
    "        merged.write_csv('../output/merged/parcel_sales' + sale_yr + '.csv')\n",
    "\n",
    "    parcel_final_len = len(parcel_append)\n",
    "\n",
    "    print(\"Original size of sales: \", len(sales_df))\n",
    "    print(\"Original size of parcels: \", parcel_init_len)\n",
    "    print('Additional rows generated (merged - sales): ', len(merged) - len(sales_df))\n",
    "    print('Duplicate rows in parcel data: ', parcel_init_len - parcel_final_len)\n",
    "\n",
    "    unmatched = merged.filter(pl.col('parid_right').is_null())['parid'].to_list()\n",
    "    error_path = r'../output/errors/merged_unmatched_' + sale_yr + '.csv'\n",
    "    with open(error_path, 'w') as writer:\n",
    "        for parid in unmatched:\n",
    "            writer.write(\"%s\\n\" % parid)\n",
    "\n",
    "    print(\"Wrote unmatched Parcel IDs to: \", error_path)\n",
    "    print('Done with year ', sale_yr)\n",
    "\n",
    "    return merged"
   ]
  },
  {
   "cell_type": "code",
   "execution_count": 6,
   "metadata": {},
   "outputs": [
    {
     "name": "stdout",
     "output_type": "stream",
     "text": [
      "Reading file:  C:/Users/nicho/Documents/research/FCS/data/sales/Sales2011.txt\n",
      "Reading file:  C:/Users/nicho/Documents/research/FCS/data/digest/parcel_14_2010-2011.xlsx\n",
      "Reading file:  C:/Users/nicho/Documents/research/FCS/data/digest/parcel_17_2010-2011.xlsx\n",
      "Reading file:  C:/Users/nicho/Documents/research/FCS/data/digest/parcel_atl_2011-2012.xlsx\n",
      "Reading file:  C:/Users/nicho/Documents/research/FCS/data/digest/parcel_nf_2010-2011.xlsx\n",
      "Reading file:  C:/Users/nicho/Documents/research/FCS/data/digest/parcel_sf_2010-2011.xlsx\n",
      "Original size of sales:  47806\n",
      "Original size of parcels:  941997\n",
      "Additional rows generated (merged - sales):  281\n",
      "Duplicate rows in parcel data:  136384\n",
      "Wrote unmatched Parcel IDs to:  ../output/errors/merged_unmatched_2011.csv\n",
      "Done with year  2011\n",
      "Reading file:  C:/Users/nicho/Documents/research/FCS/data/sales/Sales2012.txt\n",
      "Reading file:  C:/Users/nicho/Documents/research/FCS/data/digest/parcel_14_2012-2013.xlsx\n",
      "Reading file:  C:/Users/nicho/Documents/research/FCS/data/digest/parcel_17_2012-2013.xlsx\n",
      "Reading file:  C:/Users/nicho/Documents/research/FCS/data/digest/parcel_atl_2011-2012.xlsx\n",
      "Reading file:  C:/Users/nicho/Documents/research/FCS/data/digest/parcel_nf_2012-2013.xlsx\n",
      "Reading file:  C:/Users/nicho/Documents/research/FCS/data/digest/parcel_sf_2012-2013.xlsx\n",
      "Original size of sales:  39987\n",
      "Original size of parcels:  944039\n",
      "Additional rows generated (merged - sales):  267\n",
      "Duplicate rows in parcel data:  136515\n",
      "Wrote unmatched Parcel IDs to:  ../output/errors/merged_unmatched_2012.csv\n",
      "Done with year  2012\n",
      "Reading file:  C:/Users/nicho/Documents/research/FCS/data/sales/Sales2013.txt\n",
      "Reading file:  C:/Users/nicho/Documents/research/FCS/data/digest/parcel_14_2012-2013.xlsx\n",
      "Reading file:  C:/Users/nicho/Documents/research/FCS/data/digest/parcel_17_2012-2013.xlsx\n",
      "Reading file:  C:/Users/nicho/Documents/research/FCS/data/digest/parcel_atl_2013-2014.xlsx\n",
      "Reading file:  C:/Users/nicho/Documents/research/FCS/data/digest/parcel_nf_2012-2013.xlsx\n",
      "Reading file:  C:/Users/nicho/Documents/research/FCS/data/digest/parcel_sf_2012-2013.xlsx\n",
      "Original size of sales:  47461\n",
      "Original size of parcels:  944655\n",
      "Additional rows generated (merged - sales):  302\n",
      "Duplicate rows in parcel data:  136784\n",
      "Wrote unmatched Parcel IDs to:  ../output/errors/merged_unmatched_2013.csv\n",
      "Done with year  2013\n",
      "Reading file:  C:/Users/nicho/Documents/research/FCS/data/sales/Sales2014.txt\n",
      "Reading file:  C:/Users/nicho/Documents/research/FCS/data/digest/parcel_14_2014.xlsx\n",
      "Reading file:  C:/Users/nicho/Documents/research/FCS/data/digest/parcel_17_2014.xlsx\n",
      "Reading file:  C:/Users/nicho/Documents/research/FCS/data/digest/parcel_atl_2013-2014.xlsx\n",
      "Reading file:  C:/Users/nicho/Documents/research/FCS/data/digest/parcel_nf_2014.xlsx\n",
      "Reading file:  C:/Users/nicho/Documents/research/FCS/data/digest/parcel_sf_2014.xlsx\n",
      "Original size of sales:  18692\n",
      "Original size of parcels:  538881\n",
      "Additional rows generated (merged - sales):  99\n",
      "Duplicate rows in parcel data:  64474\n",
      "Wrote unmatched Parcel IDs to:  ../output/errors/merged_unmatched_2014.csv\n",
      "Done with year  2014\n",
      "Reading file:  C:/Users/nicho/Documents/research/FCS/data/sales/Sales2015.txt\n",
      "Reading file:  C:/Users/nicho/Documents/research/FCS/data/digest/parcel_14_2015.xlsx\n",
      "Reading file:  C:/Users/nicho/Documents/research/FCS/data/digest/parcel_17_2015.xlsx\n",
      "Reading file:  C:/Users/nicho/Documents/research/FCS/data/digest/parcel_atl_2015.xlsx\n",
      "Reading file:  C:/Users/nicho/Documents/research/FCS/data/digest/parcel_nf_2015.xlsx\n",
      "Reading file:  C:/Users/nicho/Documents/research/FCS/data/digest/parcel_sf_2015.xlsx\n",
      "Original size of sales:  18681\n",
      "Original size of parcels:  372197\n",
      "Additional rows generated (merged - sales):  98\n",
      "Duplicate rows in parcel data:  64470\n",
      "Wrote unmatched Parcel IDs to:  ../output/errors/merged_unmatched_2015.csv\n",
      "Done with year  2015\n",
      "Reading file:  C:/Users/nicho/Documents/research/FCS/data/sales/Sales2016.txt\n",
      "Reading file:  C:/Users/nicho/Documents/research/FCS/data/digest/parcel_17_2016.xlsx\n",
      "Reading file:  C:/Users/nicho/Documents/research/FCS/data/digest/parcel_atl_2016.xlsx\n",
      "Reading file:  C:/Users/nicho/Documents/research/FCS/data/digest/parcel_nf_2016.xlsx\n",
      "Reading file:  C:/Users/nicho/Documents/research/FCS/data/digest/parcel_sf_2016.xlsx\n",
      "Original size of sales:  24518\n",
      "Original size of parcels:  390051\n",
      "Additional rows generated (merged - sales):  141\n",
      "Duplicate rows in parcel data:  64827\n",
      "Wrote unmatched Parcel IDs to:  ../output/errors/merged_unmatched_2016.csv\n",
      "Done with year  2016\n",
      "Reading file:  C:/Users/nicho/Documents/research/FCS/data/sales/Sales2017.txt\n",
      "Reading file:  C:/Users/nicho/Documents/research/FCS/data/digest/parcel_14_2017.xlsx\n",
      "Reading file:  C:/Users/nicho/Documents/research/FCS/data/digest/parcel_17_2017.xlsx\n",
      "Reading file:  C:/Users/nicho/Documents/research/FCS/data/digest/parcel_atl_2017.xlsx\n",
      "Reading file:  C:/Users/nicho/Documents/research/FCS/data/digest/parcel_nf_2017.xlsx\n",
      "Reading file:  C:/Users/nicho/Documents/research/FCS/data/digest/parcel_sf_2017.xlsx\n",
      "Original size of sales:  22221\n",
      "Original size of parcels:  481028\n",
      "Additional rows generated (merged - sales):  137\n",
      "Duplicate rows in parcel data:  138375\n",
      "Wrote unmatched Parcel IDs to:  ../output/errors/merged_unmatched_2017.csv\n",
      "Done with year  2017\n",
      "Reading file:  C:/Users/nicho/Documents/research/FCS/data/sales/Sales2018.txt\n",
      "Reading file:  C:/Users/nicho/Documents/research/FCS/data/digest/parcel_14_2018.xlsx\n",
      "Reading file:  C:/Users/nicho/Documents/research/FCS/data/digest/parcel_17_2018.xlsx\n",
      "Reading file:  C:/Users/nicho/Documents/research/FCS/data/digest/parcel_atl_2018.xlsx\n",
      "Reading file:  C:/Users/nicho/Documents/research/FCS/data/digest/parcel_nf_2018.xlsx\n",
      "Reading file:  C:/Users/nicho/Documents/research/FCS/data/digest/parcel_sf_2018.xlsx\n",
      "Original size of sales:  49044\n",
      "Original size of parcels:  483846\n",
      "Additional rows generated (merged - sales):  371\n",
      "Duplicate rows in parcel data:  139135\n",
      "Wrote unmatched Parcel IDs to:  ../output/errors/merged_unmatched_2018.csv\n",
      "Done with year  2018\n",
      "Reading file:  C:/Users/nicho/Documents/research/FCS/data/sales/Sales2019.txt\n",
      "Reading file:  C:/Users/nicho/Documents/research/FCS/data/digest/parcel_14_2019.xlsx\n",
      "Reading file:  C:/Users/nicho/Documents/research/FCS/data/digest/parcel_17_2019.xlsx\n",
      "Reading file:  C:/Users/nicho/Documents/research/FCS/data/digest/parcel_atl_2019.xlsx\n",
      "Reading file:  C:/Users/nicho/Documents/research/FCS/data/digest/parcel_nf_2019.xlsx\n",
      "Reading file:  C:/Users/nicho/Documents/research/FCS/data/digest/parcel_sf_2019.xlsx\n",
      "Original size of sales:  51269\n",
      "Original size of parcels:  486895\n",
      "Additional rows generated (merged - sales):  371\n",
      "Duplicate rows in parcel data:  140193\n",
      "Wrote unmatched Parcel IDs to:  ../output/errors/merged_unmatched_2019.csv\n",
      "Done with year  2019\n",
      "Reading file:  C:/Users/nicho/Documents/research/FCS/data/sales/Sales2020.txt\n",
      "Reading file:  C:/Users/nicho/Documents/research/FCS/data/digest/parcel_14_2020.xlsx\n",
      "Reading file:  C:/Users/nicho/Documents/research/FCS/data/digest/parcel_17_2020.xlsx\n",
      "Reading file:  C:/Users/nicho/Documents/research/FCS/data/digest/parcel_atl_2020.xlsx\n",
      "Reading file:  C:/Users/nicho/Documents/research/FCS/data/digest/parcel_nf_2020.xlsx\n",
      "Reading file:  C:/Users/nicho/Documents/research/FCS/data/digest/parcel_sf_2020.xlsx\n",
      "Original size of sales:  50320\n",
      "Original size of parcels:  490039\n",
      "Additional rows generated (merged - sales):  363\n",
      "Duplicate rows in parcel data:  141130\n",
      "Wrote unmatched Parcel IDs to:  ../output/errors/merged_unmatched_2020.csv\n",
      "Done with year  2020\n",
      "Reading file:  C:/Users/nicho/Documents/research/FCS/data/sales/Sales2021.txt\n",
      "Reading file:  C:/Users/nicho/Documents/research/FCS/data/digest/parcel_14_2021.xlsx\n",
      "Reading file:  C:/Users/nicho/Documents/research/FCS/data/digest/parcel_17_2021.xlsx\n",
      "Reading file:  C:/Users/nicho/Documents/research/FCS/data/digest/parcel_atl_2021.xlsx\n",
      "Reading file:  C:/Users/nicho/Documents/research/FCS/data/digest/parcel_nf_2021.xlsx\n",
      "Reading file:  C:/Users/nicho/Documents/research/FCS/data/digest/parcel_sf_2021.xlsx\n",
      "Original size of sales:  48481\n",
      "Original size of parcels:  492147\n",
      "Additional rows generated (merged - sales):  357\n",
      "Duplicate rows in parcel data:  140818\n",
      "Wrote unmatched Parcel IDs to:  ../output/errors/merged_unmatched_2021.csv\n",
      "Done with year  2021\n",
      "Reading file:  C:/Users/nicho/Documents/research/FCS/data/sales/Sales2022.txt\n",
      "Reading file:  C:/Users/nicho/Documents/research/FCS/data/digest/parcel_14_2022.xlsx\n",
      "Reading file:  C:/Users/nicho/Documents/research/FCS/data/digest/parcel_17_2022.xlsx\n",
      "Reading file:  C:/Users/nicho/Documents/research/FCS/data/digest/parcel_atl_2022.xlsx\n",
      "Reading file:  C:/Users/nicho/Documents/research/FCS/data/digest/parcel_nf_2022.xlsx\n",
      "Reading file:  C:/Users/nicho/Documents/research/FCS/data/digest/parcel_sf_2022.xlsx\n",
      "Original size of sales:  58758\n",
      "Original size of parcels:  495680\n",
      "Additional rows generated (merged - sales):  428\n",
      "Duplicate rows in parcel data:  141675\n",
      "Wrote unmatched Parcel IDs to:  ../output/errors/merged_unmatched_2022.csv\n",
      "Done with year  2022\n"
     ]
    }
   ],
   "source": [
    "sales_left_parcel = [merge_year(files[0], files[1:], True) for files in files_by_year.values()]"
   ]
  },
  {
   "cell_type": "code",
   "execution_count": 7,
   "metadata": {},
   "outputs": [],
   "source": [
    "full_sales_parcel = pl.concat(sales_left_parcel, how='diagonal')"
   ]
  },
  {
   "cell_type": "markdown",
   "metadata": {},
   "source": [
    "Verify data looks as expected"
   ]
  },
  {
   "cell_type": "code",
   "execution_count": 8,
   "metadata": {},
   "outputs": [
    {
     "data": {
      "text/html": [
       "<div><style>\n",
       ".dataframe > thead > tr > th,\n",
       ".dataframe > tbody > tr > td {\n",
       "  text-align: right;\n",
       "}\n",
       "</style>\n",
       "<small>shape: (4, 60)</small><table border=\"1\" class=\"dataframe\"><thead><tr><th>taxyr</th><th>sale_year</th><th>sale_month</th><th>parid</th><th>sale_date</th><th>salesprice</th><th>fmv</th><th>deed</th><th>costval</th><th>saleval</th><th>appraiser</th><th>when</th><th>grantor</th><th>grantee</th><th>sale_adrpre</th><th>sale_adrno</th><th>sale_adrdir</th><th>sale_adrstr</th><th>sale_adrsuf</th><th>sale_adrsuf2</th><th>sale_cityname</th><th>sale_unitno</th><th>livunit</th><th>parid_strip</th><th>parid_right</th><th>nbhd</th><th>site_adrno</th><th>site_adrdir</th><th>site_adrstr</th><th>site_adrsuf</th><th>site_adrsuf2</th><th>site_cityname</th><th>zoning</th><th>site_muni</th><th>class</th><th>luc</th><th>livunit_right</th><th>calcacres</th><th>note1</th><th>taxdist</th><th>own1</th><th>own2</th><th>own_adrno</th><th>own_adradd</th><th>own_adrdir</th><th>own_adrstr</th><th>own_adrsuf</th><th>own_adrsuf2</th><th>own_statecode</th><th>own_country</th><th>own_unitno</th><th>own_zip</th><th>aprland</th><th>aprbldg</th><th>style</th><th>yrblt</th><th>rmtot</th><th>rmbed</th><th>fixbath</th><th>fixhalf</th></tr><tr><td>cat</td><td>cat</td><td>cat</td><td>str</td><td>str</td><td>str</td><td>str</td><td>cat</td><td>str</td><td>cat</td><td>str</td><td>str</td><td>str</td><td>str</td><td>cat</td><td>str</td><td>cat</td><td>str</td><td>cat</td><td>cat</td><td>cat</td><td>str</td><td>i16</td><td>str</td><td>str</td><td>cat</td><td>i64</td><td>str</td><td>str</td><td>str</td><td>str</td><td>cat</td><td>cat</td><td>cat</td><td>cat</td><td>cat</td><td>str</td><td>str</td><td>str</td><td>cat</td><td>str</td><td>str</td><td>str</td><td>str</td><td>cat</td><td>str</td><td>cat</td><td>str</td><td>cat</td><td>cat</td><td>str</td><td>str</td><td>i32</td><td>i32</td><td>cat</td><td>cat</td><td>i16</td><td>i16</td><td>i16</td><td>i16</td></tr></thead><tbody><tr><td>&quot;2017&quot;</td><td>&quot;2016&quot;</td><td>&quot;Dec&quot;</td><td>&quot;14 00490001532…</td><td>&quot;15-DEC-2016&quot;</td><td>&quot;400,000&quot;</td><td>&quot;276,900&quot;</td><td>&quot;LW&quot;</td><td>&quot;276,900&quot;</td><td>&quot;0&quot;</td><td>&quot;TA_KBYRD&quot;</td><td>&quot;04-APR-2017&quot;</td><td>&quot;STROBEL, II GE…</td><td>&quot;BECKMANN SCOTT…</td><td>null</td><td>&quot;860&quot;</td><td>null</td><td>&quot;PEACHTREE&quot;</td><td>&quot;ST&quot;</td><td>null</td><td>&quot;ATL&quot;</td><td>&quot;2301&quot;</td><td>1</td><td>&quot;14004900015325…</td><td>&quot;14 00490001532…</td><td>&quot;9994&quot;</td><td>860</td><td>null</td><td>&quot;PEACHTREE&quot;</td><td>&quot;ST&quot;</td><td>null</td><td>&quot;ATL&quot;</td><td>&quot;R1&quot;</td><td>&quot;5&quot;</td><td>&quot;R3&quot;</td><td>&quot;106&quot;</td><td>&quot;1&quot;</td><td>&quot;2.680000000000…</td><td>&quot;KA SPIRE RESID…</td><td>&quot;5&quot;</td><td>&quot;BECKMANN SCOTT…</td><td>&quot;BECKMANN RHOND…</td><td>&quot;860&quot;</td><td>null</td><td>null</td><td>&quot;PEACHTREE&quot;</td><td>&quot;ST&quot;</td><td>&quot;NE&quot;</td><td>&quot;GA&quot;</td><td>null</td><td>&quot;2301&quot;</td><td>&quot;30308&quot;</td><td>40200</td><td>236700</td><td>&quot;10&quot;</td><td>&quot;2005&quot;</td><td>5</td><td>2</td><td>2</td><td>0</td></tr><tr><td>&quot;2012&quot;</td><td>&quot;2011&quot;</td><td>&quot;May&quot;</td><td>&quot;17 0076  LL304…</td><td>&quot;26-MAY-2011&quot;</td><td>&quot;0&quot;</td><td>&quot;44,000&quot;</td><td>&quot;WD&quot;</td><td>&quot;58400&quot;</td><td>&quot;T&quot;</td><td>&quot;TA_KJORDAN&quot;</td><td>&quot;18-AUG-2011&quot;</td><td>&quot;BRACHA SAAR&quot;</td><td>&quot;BRACHA HOLDING…</td><td>null</td><td>&quot;8305&quot;</td><td>null</td><td>&quot;SANTA FE&quot;</td><td>&quot;PKY&quot;</td><td>null</td><td>&quot;FUL&quot;</td><td>null</td><td>1</td><td>&quot;170076LL3040&quot;</td><td>&quot;17 0076  LL304…</td><td>&quot;77985&quot;</td><td>8305</td><td>null</td><td>&quot;SANTA FE&quot;</td><td>&quot;PKY&quot;</td><td>null</td><td>&quot;SANDY SPRINGS&quot;</td><td>&quot;AC&quot;</td><td>&quot;59&quot;</td><td>&quot;R3&quot;</td><td>&quot;106&quot;</td><td>&quot;1&quot;</td><td>&quot;2.489999999999…</td><td>&quot;KA VICTORIA HE…</td><td>&quot;59&quot;</td><td>&quot;BRACHA HOLDING…</td><td>null</td><td>&quot;245&quot;</td><td>null</td><td>null</td><td>&quot;WOODSCAPE&quot;</td><td>&quot;CT&quot;</td><td>null</td><td>&quot;GA&quot;</td><td>null</td><td>null</td><td>&quot;30022&quot;</td><td>5200</td><td>36900</td><td>&quot;10&quot;</td><td>&quot;1991&quot;</td><td>4</td><td>2</td><td>2</td><td>0</td></tr><tr><td>&quot;2022&quot;</td><td>&quot;2021&quot;</td><td>&quot;Jun&quot;</td><td>&quot;17 0032  LL505…</td><td>&quot;15-JUN-2021&quot;</td><td>&quot;449,500&quot;</td><td>&quot;413,900&quot;</td><td>&quot;LW&quot;</td><td>&quot;413,900&quot;</td><td>&quot;0&quot;</td><td>&quot;TA_LWILLIA&quot;</td><td>&quot;10-NOV-2021&quot;</td><td>&quot;RONKART PIERRE…</td><td>&quot;LUCAS LONNIE&quot;</td><td>null</td><td>&quot;7500&quot;</td><td>null</td><td>&quot;GLISTEN&quot;</td><td>&quot;AVE&quot;</td><td>null</td><td>&quot;SANDY SPRINGS&quot;</td><td>&quot;317&quot;</td><td>1</td><td>&quot;170032LL5055&quot;</td><td>&quot;17 0032  LL505…</td><td>&quot;1781T&quot;</td><td>7500</td><td>null</td><td>&quot;GLISTEN&quot;</td><td>&quot;AVE&quot;</td><td>null</td><td>&quot;SANDY SPRINGS&quot;</td><td>&quot;RM3&quot;</td><td>&quot;59&quot;</td><td>&quot;R3&quot;</td><td>&quot;107&quot;</td><td>&quot;1&quot;</td><td>&quot;0.03&quot;</td><td>null</td><td>&quot;59&quot;</td><td>&quot;LUCAS LONNIE&quot;</td><td>null</td><td>&quot;7500&quot;</td><td>null</td><td>null</td><td>&quot;GLISTEN&quot;</td><td>&quot;AVE&quot;</td><td>null</td><td>&quot;GA&quot;</td><td>null</td><td>null</td><td>&quot;30328&quot;</td><td>57800</td><td>356100</td><td>&quot;7&quot;</td><td>&quot;2013&quot;</td><td>6</td><td>3</td><td>2</td><td>1</td></tr><tr><td>&quot;2021&quot;</td><td>&quot;2020&quot;</td><td>&quot;Feb&quot;</td><td>&quot;14 02080010044…</td><td>&quot;13-FEB-2020&quot;</td><td>&quot;227,500&quot;</td><td>&quot;220,700&quot;</td><td>&quot;LW&quot;</td><td>&quot;220,700&quot;</td><td>&quot;0&quot;</td><td>&quot;TA_SPOYTHR&quot;</td><td>&quot;05-NOV-2020&quot;</td><td>&quot;MICHIGAN INVES…</td><td>&quot;LUMIERE MISCHA…</td><td>null</td><td>&quot;638&quot;</td><td>null</td><td>&quot;ALBERT&quot;</td><td>&quot;ST&quot;</td><td>&quot;NW&quot;</td><td>&quot;ATLANTA&quot;</td><td>null</td><td>1</td><td>&quot;14020800100447…</td><td>&quot;14 02080010044…</td><td>&quot;14781&quot;</td><td>638</td><td>null</td><td>&quot;ALBERT&quot;</td><td>&quot;ST&quot;</td><td>&quot;NW&quot;</td><td>&quot;ATLANTA&quot;</td><td>&quot;R4&quot;</td><td>&quot;5&quot;</td><td>&quot;R3&quot;</td><td>&quot;101&quot;</td><td>&quot;1&quot;</td><td>&quot;0.172199999999…</td><td>&quot;COLLIER HEIGHT…</td><td>&quot;5&quot;</td><td>&quot;LUMIERE MISCHA…</td><td>null</td><td>&quot;50&quot;</td><td>null</td><td>null</td><td>&quot;HURT&quot;</td><td>&quot;PLZ&quot;</td><td>null</td><td>&quot;GA&quot;</td><td>null</td><td>&quot;1444&quot;</td><td>&quot;30303&quot;</td><td>26500</td><td>194200</td><td>&quot;2&quot;</td><td>&quot;1950&quot;</td><td>8</td><td>4</td><td>2</td><td>0</td></tr></tbody></table></div>"
      ],
      "text/plain": [
       "shape: (4, 60)\n",
       "┌───────┬───────────┬────────────┬─────────────────┬───┬───────┬───────┬─────────┬─────────┐\n",
       "│ taxyr ┆ sale_year ┆ sale_month ┆ parid           ┆ … ┆ rmtot ┆ rmbed ┆ fixbath ┆ fixhalf │\n",
       "│ ---   ┆ ---       ┆ ---        ┆ ---             ┆   ┆ ---   ┆ ---   ┆ ---     ┆ ---     │\n",
       "│ cat   ┆ cat       ┆ cat        ┆ str             ┆   ┆ i16   ┆ i16   ┆ i16     ┆ i16     │\n",
       "╞═══════╪═══════════╪════════════╪═════════════════╪═══╪═══════╪═══════╪═════════╪═════════╡\n",
       "│ 2017  ┆ 2016      ┆ Dec        ┆ 14 004900015325 ┆ … ┆ 5     ┆ 2     ┆ 2       ┆ 0       │\n",
       "│ 2012  ┆ 2011      ┆ May        ┆ 17 0076  LL3040 ┆ … ┆ 4     ┆ 2     ┆ 2       ┆ 0       │\n",
       "│ 2022  ┆ 2021      ┆ Jun        ┆ 17 0032  LL5055 ┆ … ┆ 6     ┆ 3     ┆ 2       ┆ 1       │\n",
       "│ 2021  ┆ 2020      ┆ Feb        ┆ 14 020800100447 ┆ … ┆ 8     ┆ 4     ┆ 2       ┆ 0       │\n",
       "└───────┴───────────┴────────────┴─────────────────┴───┴───────┴───────┴─────────┴─────────┘"
      ]
     },
     "execution_count": 8,
     "metadata": {},
     "output_type": "execute_result"
    }
   ],
   "source": [
    "full_sales_parcel.sample(4)"
   ]
  },
  {
   "cell_type": "code",
   "execution_count": 9,
   "metadata": {},
   "outputs": [
    {
     "name": "stdout",
     "output_type": "stream",
     "text": [
      "Total row count:  480453\n",
      "Total unmatched parcels:  15703\n",
      "Percent of total:  3.2683738055543414\n"
     ]
    }
   ],
   "source": [
    "unmatched = len(full_sales_parcel.filter(pl.col('parid_right').is_null()))\n",
    "print('Total row count: ', len(full_sales_parcel))\n",
    "print('Total unmatched parcels: ', unmatched)\n",
    "print('Percent of total: ', unmatched / len(full_sales_parcel) * 100)"
   ]
  },
  {
   "cell_type": "code",
   "execution_count": 10,
   "metadata": {},
   "outputs": [
    {
     "name": "stdout",
     "output_type": "stream",
     "text": [
      "Total unique [parid, taxyr] keys:  380731\n",
      "Total non-unique [parid, taxyr] keys:  99722\n",
      "Percent (non-unique) of total:  20.7558283536579\n"
     ]
    }
   ],
   "source": [
    "unique_sales = len(full_sales_parcel.select(['parid', 'taxyr']).unique())\n",
    "print('Total unique [parid, taxyr] keys: ', unique_sales)\n",
    "print('Total non-unique [parid, taxyr] keys: ', len(full_sales_parcel) - unique_sales)\n",
    "print('Percent (non-unique) of total: ', (len(full_sales_parcel) - unique_sales) / len(full_sales_parcel) * 100)"
   ]
  },
  {
   "cell_type": "markdown",
   "metadata": {},
   "source": [
    "Compared to original sales"
   ]
  },
  {
   "cell_type": "code",
   "execution_count": 11,
   "metadata": {},
   "outputs": [
    {
     "name": "stdout",
     "output_type": "stream",
     "text": [
      "Reading file:  C:/Users/nicho/Documents/research/FCS/data/sales/Sales2011.txt\n",
      "Reading file:  C:/Users/nicho/Documents/research/FCS/data/sales/Sales2012.txt\n",
      "Reading file:  C:/Users/nicho/Documents/research/FCS/data/sales/Sales2013.txt\n",
      "Reading file:  C:/Users/nicho/Documents/research/FCS/data/sales/Sales2014.txt\n",
      "Reading file:  C:/Users/nicho/Documents/research/FCS/data/sales/Sales2015.txt\n",
      "Reading file:  C:/Users/nicho/Documents/research/FCS/data/sales/Sales2016.txt\n",
      "Reading file:  C:/Users/nicho/Documents/research/FCS/data/sales/Sales2017.txt\n",
      "Reading file:  C:/Users/nicho/Documents/research/FCS/data/sales/Sales2018.txt\n",
      "Reading file:  C:/Users/nicho/Documents/research/FCS/data/sales/Sales2019.txt\n",
      "Reading file:  C:/Users/nicho/Documents/research/FCS/data/sales/Sales2020.txt\n",
      "Reading file:  C:/Users/nicho/Documents/research/FCS/data/sales/Sales2021.txt\n",
      "Reading file:  C:/Users/nicho/Documents/research/FCS/data/sales/Sales2022.txt\n"
     ]
    }
   ],
   "source": [
    "all_sales = [read_file(sales_path + file, sales_dtypes, sales_new_names) for file in sales_files]\n",
    "all_sales_append = pl.concat(all_sales, how='diagonal')\n",
    "all_sales_append.write_csv('../output/sales/sales_all_years.csv')"
   ]
  },
  {
   "cell_type": "code",
   "execution_count": 12,
   "metadata": {},
   "outputs": [
    {
     "name": "stdout",
     "output_type": "stream",
     "text": [
      "Additional non-unique rows generated from processing:  3215\n",
      "Percent of original sales:  0.6736680649906336\n"
     ]
    }
   ],
   "source": [
    "add_rows = len(full_sales_parcel) - len(all_sales_append)\n",
    "print('Additional non-unique rows generated from processing: ', add_rows)\n",
    "print('Percent of original sales: ', add_rows / len(all_sales_append) * 100)"
   ]
  },
  {
   "cell_type": "markdown",
   "metadata": {},
   "source": [
    "### Post-Processing\n",
    "---"
   ]
  },
  {
   "cell_type": "markdown",
   "metadata": {},
   "source": [
    "Save before post-processing to avoid having to re-run entire process."
   ]
  },
  {
   "cell_type": "code",
   "execution_count": 13,
   "metadata": {},
   "outputs": [],
   "source": [
    "full_sales_parcel.write_csv('../output/merged/pre_sales_parcel_left.csv')"
   ]
  },
  {
   "cell_type": "markdown",
   "metadata": {},
   "source": [
    "Convert salesprice, fmv, costval -> float  \n",
    "Convert own_adrno, own_zip -> int  \n",
    "AND drop rows with bad entries for all of the above variables except costval"
   ]
  },
  {
   "cell_type": "code",
   "execution_count": 14,
   "metadata": {},
   "outputs": [],
   "source": [
    "init_size = len(full_sales_parcel)\n",
    "full_sales_parcel = full_sales_parcel.select(\n",
    "    pl.col('salesprice').str.replace_all(',','').cast(pl.Float64),\n",
    "    pl.col('fmv').str.replace_all(',','').cast(pl.Float64),\n",
    "    pl.col('costval').str.replace_all(',','').cast(pl.Float64),\n",
    "    pl.col('*').exclude(['salesprice', 'fmv', 'costval'])\n",
    ")"
   ]
  },
  {
   "cell_type": "markdown",
   "metadata": {},
   "source": [
    "Number of null own_adrno."
   ]
  },
  {
   "cell_type": "code",
   "execution_count": 81,
   "metadata": {},
   "outputs": [
    {
     "data": {
      "text/plain": [
       "35145"
      ]
     },
     "execution_count": 81,
     "metadata": {},
     "output_type": "execute_result"
    }
   ],
   "source": [
    "len(full_sales_parcel.filter(\n",
    "    pl.col('own_adrno').is_null()\n",
    "))"
   ]
  },
  {
   "cell_type": "markdown",
   "metadata": {},
   "source": [
    "Number of rows where both own_adrno and own_adrstr are null. We want count of null own_adrno = count of null own_adrstr, since we can assume there is no own_adrno if there is no street information either."
   ]
  },
  {
   "cell_type": "code",
   "execution_count": 83,
   "metadata": {},
   "outputs": [
    {
     "data": {
      "text/plain": [
       "17141"
      ]
     },
     "execution_count": 83,
     "metadata": {},
     "output_type": "execute_result"
    }
   ],
   "source": [
    "len(full_sales_parcel.filter(\n",
    "    pl.col('own_adrno').is_null() &\n",
    "    pl.col('own_adrstr').is_null()\n",
    "))"
   ]
  },
  {
   "cell_type": "code",
   "execution_count": 87,
   "metadata": {},
   "outputs": [
    {
     "data": {
      "text/html": [
       "<div><style>\n",
       ".dataframe > thead > tr > th,\n",
       ".dataframe > tbody > tr > td {\n",
       "  text-align: right;\n",
       "}\n",
       "</style>\n",
       "<small>shape: (2, 2)</small><table border=\"1\" class=\"dataframe\"><thead><tr><th>own_adrno</th><th>own_adrstr</th></tr><tr><td>str</td><td>str</td></tr></thead><tbody><tr><td>null</td><td>&quot;P O BOX 650043…</td></tr><tr><td>null</td><td>&quot;PO BOX 6993&quot;</td></tr></tbody></table></div>"
      ],
      "text/plain": [
       "shape: (2, 2)\n",
       "┌───────────┬────────────────┐\n",
       "│ own_adrno ┆ own_adrstr     │\n",
       "│ ---       ┆ ---            │\n",
       "│ str       ┆ str            │\n",
       "╞═══════════╪════════════════╡\n",
       "│ null      ┆ P O BOX 650043 │\n",
       "│ null      ┆ PO BOX 6993    │\n",
       "└───────────┴────────────────┘"
      ]
     },
     "execution_count": 87,
     "metadata": {},
     "output_type": "execute_result"
    }
   ],
   "source": [
    "full_sales_parcel.filter(\n",
    "    pl.col('own_adrno').is_null()\n",
    ")[['own_adrno', 'own_adrstr']].sample(2)"
   ]
  },
  {
   "cell_type": "markdown",
   "metadata": {},
   "source": [
    "Extract own_adrno from PO boxes to reduce the number of nulls. Most null own_adrno are caused by PO boxes."
   ]
  },
  {
   "cell_type": "code",
   "execution_count": 103,
   "metadata": {},
   "outputs": [],
   "source": [
    "full_sales_parcel = full_sales_parcel.with_columns(\n",
    "    pl.when(pl.col('own_adrno').is_null())\n",
    "    .then(pl.col('own_adrstr').str.extract(r'(\\d+)'))\n",
    "    .otherwise(pl.col('own_adrno'))\n",
    "    .alias('own_adrno')\n",
    ")"
   ]
  },
  {
   "cell_type": "markdown",
   "metadata": {},
   "source": [
    "Now we can drop nulls for own_adrno. We can also drop nulls for own_zip."
   ]
  },
  {
   "cell_type": "code",
   "execution_count": 116,
   "metadata": {},
   "outputs": [
    {
     "name": "stdout",
     "output_type": "stream",
     "text": [
      "Number of rows dropped:  18217\n",
      "Percent:  3.9410604106992966\n"
     ]
    }
   ],
   "source": [
    "init_len = len(full_sales_parcel)\n",
    "full_sales_parcel = full_sales_parcel.drop_nulls(subset=['own_adrno', 'own_zip'])\n",
    "print('Number of rows dropped: ', init_len - len(full_sales_parcel))\n",
    "print('Percent: ', (init_len - len(full_sales_parcel)) / len(full_sales_parcel) * 100)"
   ]
  },
  {
   "cell_type": "markdown",
   "metadata": {},
   "source": [
    "Investigate incorrect own_zip."
   ]
  },
  {
   "cell_type": "code",
   "execution_count": 117,
   "metadata": {},
   "outputs": [
    {
     "data": {
      "text/html": [
       "<div><style>\n",
       ".dataframe > thead > tr > th,\n",
       ".dataframe > tbody > tr > td {\n",
       "  text-align: right;\n",
       "}\n",
       "</style>\n",
       "<small>shape: (5,)</small><table border=\"1\" class=\"dataframe\"><thead><tr><th>own_zip</th></tr><tr><td>str</td></tr></thead><tbody><tr><td>&quot;L7M-4&quot;</td></tr><tr><td>&quot;L5M 5&quot;</td></tr><tr><td>&quot;L4E4B&quot;</td></tr><tr><td>&quot;NSW 2&quot;</td></tr><tr><td>&quot;EL61L&quot;</td></tr></tbody></table></div>"
      ],
      "text/plain": [
       "shape: (5,)\n",
       "Series: 'own_zip' [str]\n",
       "[\n",
       "\t\"L7M-4\"\n",
       "\t\"L5M 5\"\n",
       "\t\"L4E4B\"\n",
       "\t\"NSW 2\"\n",
       "\t\"EL61L\"\n",
       "]"
      ]
     },
     "execution_count": 117,
     "metadata": {},
     "output_type": "execute_result"
    }
   ],
   "source": [
    "full_sales_parcel.filter(\n",
    "    pl.col('own_zip').str.contains(r'[a-zA-Z]')\n",
    ")['own_zip'].sample(5)"
   ]
  },
  {
   "cell_type": "markdown",
   "metadata": {},
   "source": [
    "Number of incorrect own_zip."
   ]
  },
  {
   "cell_type": "code",
   "execution_count": 118,
   "metadata": {},
   "outputs": [
    {
     "data": {
      "text/plain": [
       "165"
      ]
     },
     "execution_count": 118,
     "metadata": {},
     "output_type": "execute_result"
    }
   ],
   "source": [
    "len(full_sales_parcel.filter(\n",
    "    pl.col('own_zip').str.contains(r'[a-zA-Z]')\n",
    "))"
   ]
  },
  {
   "cell_type": "code",
   "execution_count": 124,
   "metadata": {},
   "outputs": [
    {
     "data": {
      "text/plain": [
       "462236"
      ]
     },
     "execution_count": 124,
     "metadata": {},
     "output_type": "execute_result"
    }
   ],
   "source": [
    "len(full_sales_parcel)"
   ]
  },
  {
   "cell_type": "markdown",
   "metadata": {},
   "source": [
    "Drop incorrect own_zip."
   ]
  },
  {
   "cell_type": "code",
   "execution_count": 133,
   "metadata": {},
   "outputs": [
    {
     "name": "stdout",
     "output_type": "stream",
     "text": [
      "Count dropped:  165\n"
     ]
    }
   ],
   "source": [
    "init_len = len(full_sales_parcel)\n",
    "\n",
    "full_sales_parcel = full_sales_parcel.with_columns(\n",
    "    pl.when(pl.col('own_zip').str.contains(r'[a-zA-Z]'))\n",
    "    .then(None)\n",
    "    .otherwise(pl.col('own_zip'))\n",
    "    .alias('own_zip')\n",
    ").drop_nulls(['own_zip'])\n",
    "\n",
    "print('Count dropped: ', init_len - len(full_sales_parcel))"
   ]
  },
  {
   "cell_type": "markdown",
   "metadata": {},
   "source": [
    "Cast own_adrno and own_zip -> int."
   ]
  },
  {
   "cell_type": "code",
   "execution_count": 134,
   "metadata": {},
   "outputs": [],
   "source": [
    "full_sales_parcel = full_sales_parcel.select(\n",
    "    pl.col('own_adrno').cast(pl.Int32),\n",
    "    pl.col('own_zip').cast(pl.Int32),\n",
    "    pl.col('*').exclude(['own_adrno', 'own_zip'])\n",
    ")"
   ]
  },
  {
   "cell_type": "code",
   "execution_count": 135,
   "metadata": {},
   "outputs": [
    {
     "data": {
      "text/html": [
       "<div><style>\n",
       ".dataframe > thead > tr > th,\n",
       ".dataframe > tbody > tr > td {\n",
       "  text-align: right;\n",
       "}\n",
       "</style>\n",
       "<small>shape: (5, 60)</small><table border=\"1\" class=\"dataframe\"><thead><tr><th>own_adrno</th><th>own_zip</th><th>salesprice</th><th>fmv</th><th>costval</th><th>taxyr</th><th>sale_year</th><th>sale_month</th><th>parid</th><th>sale_date</th><th>deed</th><th>saleval</th><th>appraiser</th><th>when</th><th>grantor</th><th>grantee</th><th>sale_adrpre</th><th>sale_adrno</th><th>sale_adrdir</th><th>sale_adrstr</th><th>sale_adrsuf</th><th>sale_adrsuf2</th><th>sale_cityname</th><th>sale_unitno</th><th>livunit</th><th>parid_strip</th><th>parid_right</th><th>nbhd</th><th>site_adrno</th><th>site_adrdir</th><th>site_adrstr</th><th>site_adrsuf</th><th>site_adrsuf2</th><th>site_cityname</th><th>zoning</th><th>site_muni</th><th>class</th><th>luc</th><th>livunit_right</th><th>calcacres</th><th>note1</th><th>taxdist</th><th>own1</th><th>own2</th><th>own_adradd</th><th>own_adrdir</th><th>own_adrstr</th><th>own_adrsuf</th><th>own_adrsuf2</th><th>own_statecode</th><th>own_country</th><th>own_unitno</th><th>aprland</th><th>aprbldg</th><th>style</th><th>yrblt</th><th>rmtot</th><th>rmbed</th><th>fixbath</th><th>fixhalf</th></tr><tr><td>i32</td><td>i32</td><td>f64</td><td>f64</td><td>f64</td><td>cat</td><td>cat</td><td>cat</td><td>str</td><td>str</td><td>cat</td><td>cat</td><td>str</td><td>str</td><td>str</td><td>str</td><td>cat</td><td>str</td><td>cat</td><td>str</td><td>cat</td><td>cat</td><td>cat</td><td>str</td><td>i16</td><td>str</td><td>str</td><td>cat</td><td>i64</td><td>str</td><td>str</td><td>str</td><td>str</td><td>cat</td><td>cat</td><td>cat</td><td>cat</td><td>cat</td><td>str</td><td>str</td><td>str</td><td>cat</td><td>str</td><td>str</td><td>str</td><td>cat</td><td>str</td><td>cat</td><td>str</td><td>cat</td><td>cat</td><td>str</td><td>i32</td><td>i32</td><td>cat</td><td>cat</td><td>i16</td><td>i16</td><td>i16</td><td>i16</td></tr></thead><tbody><tr><td>3311</td><td>30324</td><td>1.199e6</td><td>894200.0</td><td>894200.0</td><td>&quot;2021&quot;</td><td>&quot;2020&quot;</td><td>&quot;Dec&quot;</td><td>&quot;17 00080001004…</td><td>&quot;31-DEC-2020&quot;</td><td>&quot;LW&quot;</td><td>&quot;0&quot;</td><td>&quot;TA_JCHRIST&quot;</td><td>&quot;30-JUN-2021&quot;</td><td>&quot;CHASE HOMES IN…</td><td>&quot;YOUNG TRACEY A…</td><td>null</td><td>&quot;3311&quot;</td><td>null</td><td>&quot;WEST ROXBORO&quot;</td><td>&quot;RD&quot;</td><td>&quot;NE&quot;</td><td>&quot;ATLANTA&quot;</td><td>null</td><td>1</td><td>&quot;17000800010047…</td><td>&quot;17 00080001004…</td><td>&quot;171102&quot;</td><td>3311</td><td>null</td><td>&quot;WEST ROXBORO&quot;</td><td>&quot;RD&quot;</td><td>&quot;NE&quot;</td><td>&quot;ATLANTA&quot;</td><td>&quot;R3&quot;</td><td>&quot;5&quot;</td><td>&quot;R3&quot;</td><td>&quot;101&quot;</td><td>&quot;1&quot;</td><td>&quot;0.5292&quot;</td><td>&quot;*DATA VERIFIED…</td><td>&quot;5&quot;</td><td>&quot;YOUNG TRACEY A…</td><td>null</td><td>null</td><td>&quot;W&quot;</td><td>&quot;ROXBORO&quot;</td><td>&quot;RD&quot;</td><td>&quot;NE&quot;</td><td>&quot;GA&quot;</td><td>null</td><td>null</td><td>215300</td><td>678900</td><td>&quot;1&quot;</td><td>&quot;2018&quot;</td><td>10</td><td>5</td><td>3</td><td>1</td></tr><tr><td>240</td><td>30213</td><td>120000.0</td><td>119930.0</td><td>124200.0</td><td>&quot;2013&quot;</td><td>&quot;2012&quot;</td><td>&quot;May&quot;</td><td>&quot;07 27000169199…</td><td>&quot;22-MAY-2012&quot;</td><td>&quot;WD&quot;</td><td>&quot;0&quot;</td><td>&quot;CLT&quot;</td><td>&quot;29-MAY-2013&quot;</td><td>&quot;DARNLEY MONIQU…</td><td>&quot;MINTER BRANDI&quot;</td><td>null</td><td>&quot;240&quot;</td><td>null</td><td>&quot;BUCKINGHAM&quot;</td><td>&quot;LN&quot;</td><td>null</td><td>&quot;FBN&quot;</td><td>null</td><td>1</td><td>&quot;07270001691991…</td><td>&quot;07 27000169199…</td><td>&quot;726&quot;</td><td>240</td><td>null</td><td>&quot;BUCKINGHAM&quot;</td><td>&quot;LN&quot;</td><td>null</td><td>&quot;FAIRBURN&quot;</td><td>&quot;PD&quot;</td><td>&quot;25&quot;</td><td>&quot;R3&quot;</td><td>&quot;101&quot;</td><td>&quot;1&quot;</td><td>&quot;0.192&quot;</td><td>&quot;KA PARKS @ DUR…</td><td>&quot;25&quot;</td><td>&quot;MINTER BRANDI&quot;</td><td>null</td><td>null</td><td>null</td><td>&quot;BUCKINGHAM&quot;</td><td>&quot;LANE&quot;</td><td>null</td><td>&quot;GA&quot;</td><td>null</td><td>null</td><td>24630</td><td>95300</td><td>&quot;1&quot;</td><td>&quot;2006&quot;</td><td>9</td><td>5</td><td>3</td><td>0</td></tr><tr><td>4171</td><td>30035</td><td>27000.0</td><td>27000.0</td><td>16600.0</td><td>&quot;2016&quot;</td><td>&quot;2015&quot;</td><td>&quot;Aug&quot;</td><td>&quot;14 01090003030…</td><td>&quot;31-AUG-2015&quot;</td><td>&quot;WD&quot;</td><td>&quot;9&quot;</td><td>&quot;TA_JBANKS&quot;</td><td>&quot;12-FEB-2016&quot;</td><td>&quot;PABON NELSON A…</td><td>&quot;HILL LAURENE T…</td><td>null</td><td>&quot;862&quot;</td><td>null</td><td>&quot;BECKWITH&quot;</td><td>&quot;ST&quot;</td><td>&quot;SW&quot;</td><td>&quot;ATL&quot;</td><td>null</td><td>1</td><td>&quot;14010900030305…</td><td>&quot;14 01090003030…</td><td>&quot;1415&quot;</td><td>862</td><td>null</td><td>&quot;BECKWITH&quot;</td><td>&quot;ST&quot;</td><td>&quot;SW&quot;</td><td>&quot;ATL&quot;</td><td>&quot;R5&quot;</td><td>&quot;5&quot;</td><td>&quot;R3&quot;</td><td>&quot;101&quot;</td><td>&quot;1&quot;</td><td>&quot;9.64E-2&quot;</td><td>&quot;AN MEAS VERIFI…</td><td>&quot;5&quot;</td><td>&quot;MAROON &amp; WHITE…</td><td>null</td><td>null</td><td>null</td><td>&quot;SNAPFINGER WOO…</td><td>&quot;DR&quot;</td><td>null</td><td>&quot;GA&quot;</td><td>null</td><td>null</td><td>8900</td><td>18100</td><td>&quot;1&quot;</td><td>&quot;1970&quot;</td><td>6</td><td>2</td><td>1</td><td>0</td></tr><tr><td>3481</td><td>30326</td><td>206000.0</td><td>189500.0</td><td>189500.0</td><td>&quot;2019&quot;</td><td>&quot;2018&quot;</td><td>&quot;Dec&quot;</td><td>&quot;17 00090004119…</td><td>&quot;17-DEC-2018&quot;</td><td>&quot;LW&quot;</td><td>&quot;0&quot;</td><td>&quot;TA_JCHRIST&quot;</td><td>&quot;20-FEB-2019&quot;</td><td>&quot;APONTE MIQUEL …</td><td>&quot;SHARMA ANJAVI …</td><td>null</td><td>&quot;3481&quot;</td><td>null</td><td>&quot;LAKESIDE&quot;</td><td>&quot;DR&quot;</td><td>&quot;NE&quot;</td><td>&quot;ATLANTA&quot;</td><td>&quot;1205&quot;</td><td>1</td><td>&quot;17000900041199…</td><td>&quot;17 00090004119…</td><td>&quot;17095&quot;</td><td>3481</td><td>null</td><td>&quot;LAKESIDE&quot;</td><td>&quot;DR&quot;</td><td>&quot;NE&quot;</td><td>&quot;ATLANTA&quot;</td><td>&quot;PDH&quot;</td><td>&quot;5&quot;</td><td>&quot;R3&quot;</td><td>&quot;106&quot;</td><td>&quot;1&quot;</td><td>&quot;1.72E-2&quot;</td><td>&quot;KA GRANDVIEW -…</td><td>&quot;5&quot;</td><td>&quot;SHARMA ANJAVI …</td><td>null</td><td>null</td><td>null</td><td>&quot;LAKESIDE&quot;</td><td>&quot;DR&quot;</td><td>&quot;NE&quot;</td><td>&quot;GA&quot;</td><td>null</td><td>&quot;1205&quot;</td><td>28400</td><td>161100</td><td>&quot;10&quot;</td><td>&quot;1990&quot;</td><td>3</td><td>1</td><td>1</td><td>0</td></tr><tr><td>975</td><td>30319</td><td>1.35e6</td><td>300100.0</td><td>300100.0</td><td>&quot;2011&quot;</td><td>&quot;2010&quot;</td><td>&quot;May&quot;</td><td>&quot;17 00120003037…</td><td>&quot;20-MAY-2010&quot;</td><td>&quot;WD&quot;</td><td>&quot;P&quot;</td><td>&quot;TA_ZMITCHE&quot;</td><td>&quot;01-APR-2011&quot;</td><td>&quot;HUBBARD JOHNNY…</td><td>&quot;LINCH DAVID E&quot;</td><td>null</td><td>&quot;4308&quot;</td><td>null</td><td>&quot;CLUB&quot;</td><td>&quot;DR&quot;</td><td>null</td><td>&quot;ATL&quot;</td><td>null</td><td>0</td><td>&quot;17001200030379…</td><td>&quot;17 00120003037…</td><td>&quot;1711&quot;</td><td>4308</td><td>null</td><td>&quot;CLUB&quot;</td><td>&quot;DR&quot;</td><td>null</td><td>&quot;ATLANTA&quot;</td><td>&quot;R3&quot;</td><td>&quot;5&quot;</td><td>&quot;R4&quot;</td><td>&quot;100&quot;</td><td>&quot;0&quot;</td><td>&quot;1.68&quot;</td><td>&quot;HOUSE DEMO 12/…</td><td>&quot;5&quot;</td><td>&quot;LINCH DAVID E&quot;</td><td>null</td><td>null</td><td>null</td><td>&quot;WINALL DOWN&quot;</td><td>&quot;RD&quot;</td><td>null</td><td>&quot;GA&quot;</td><td>null</td><td>null</td><td>285500</td><td>14600</td><td>&quot;2&quot;</td><td>&quot;1950&quot;</td><td>9</td><td>5</td><td>3</td><td>0</td></tr></tbody></table></div>"
      ],
      "text/plain": [
       "shape: (5, 60)\n",
       "┌───────────┬─────────┬────────────┬──────────┬───┬───────┬───────┬─────────┬─────────┐\n",
       "│ own_adrno ┆ own_zip ┆ salesprice ┆ fmv      ┆ … ┆ rmtot ┆ rmbed ┆ fixbath ┆ fixhalf │\n",
       "│ ---       ┆ ---     ┆ ---        ┆ ---      ┆   ┆ ---   ┆ ---   ┆ ---     ┆ ---     │\n",
       "│ i32       ┆ i32     ┆ f64        ┆ f64      ┆   ┆ i16   ┆ i16   ┆ i16     ┆ i16     │\n",
       "╞═══════════╪═════════╪════════════╪══════════╪═══╪═══════╪═══════╪═════════╪═════════╡\n",
       "│ 3311      ┆ 30324   ┆ 1.199e6    ┆ 894200.0 ┆ … ┆ 10    ┆ 5     ┆ 3       ┆ 1       │\n",
       "│ 240       ┆ 30213   ┆ 120000.0   ┆ 119930.0 ┆ … ┆ 9     ┆ 5     ┆ 3       ┆ 0       │\n",
       "│ 4171      ┆ 30035   ┆ 27000.0    ┆ 27000.0  ┆ … ┆ 6     ┆ 2     ┆ 1       ┆ 0       │\n",
       "│ 3481      ┆ 30326   ┆ 206000.0   ┆ 189500.0 ┆ … ┆ 3     ┆ 1     ┆ 1       ┆ 0       │\n",
       "│ 975       ┆ 30319   ┆ 1.35e6     ┆ 300100.0 ┆ … ┆ 9     ┆ 5     ┆ 3       ┆ 0       │\n",
       "└───────────┴─────────┴────────────┴──────────┴───┴───────┴───────┴─────────┴─────────┘"
      ]
     },
     "execution_count": 135,
     "metadata": {},
     "output_type": "execute_result"
    }
   ],
   "source": [
    "full_sales_parcel.sample(5)"
   ]
  },
  {
   "cell_type": "markdown",
   "metadata": {},
   "source": [
    "### Final output\n",
    "---"
   ]
  },
  {
   "cell_type": "code",
   "execution_count": 136,
   "metadata": {},
   "outputs": [],
   "source": [
    "full_sales_parcel.write_csv('../output/merged/sales_parcel_left.csv')"
   ]
  }
 ],
 "metadata": {
  "kernelspec": {
   "display_name": "fcs",
   "language": "python",
   "name": "python3"
  },
  "language_info": {
   "codemirror_mode": {
    "name": "ipython",
    "version": 3
   },
   "file_extension": ".py",
   "mimetype": "text/x-python",
   "name": "python",
   "nbconvert_exporter": "python",
   "pygments_lexer": "ipython3",
   "version": "3.11.4"
  },
  "orig_nbformat": 4
 },
 "nbformat": 4,
 "nbformat_minor": 2
}
